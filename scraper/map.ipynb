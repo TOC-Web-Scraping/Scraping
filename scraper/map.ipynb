{
  "cells": [
    {
      "cell_type": "code",
      "execution_count": 1,
      "metadata": {
        "id": "PQ_cKRQUhtxp"
      },
      "outputs": [],
      "source": [
        "import requests\n",
        "import re\n",
        "import time"
      ]
    },
    {
      "cell_type": "code",
      "execution_count": 2,
      "metadata": {
        "id": "zn-jtQ8ThxVC"
      },
      "outputs": [],
      "source": [
        "url = \"https://liquipedia.net/valorant/\"\n",
        "MapUrl=[]"
      ]
    },
    {
      "cell_type": "code",
      "execution_count": 3,
      "metadata": {
        "id": "eVUgrzC7iAgK"
      },
      "outputs": [],
      "source": [
        "def getSrc(url,id):\n",
        "    r = requests.get(url+id)\n",
        "    return r.text"
      ]
    },
    {
      "cell_type": "code",
      "execution_count": 4,
      "metadata": {
        "id": "z9IX49lHitmQ"
      },
      "outputs": [],
      "source": [
        "def getMapUrl():\n",
        "    active = []\n",
        "    src = getSrc(url, 'Portal:Maps')\n",
        "    \n",
        "    finder = '(\\w+) Map Banner'\n",
        "\n",
        "    for map in re.findall(finder,src):\n",
        "        if map not in active:\n",
        "            active.append(map)\n",
        "    return active"
      ]
    },
    {
      "cell_type": "code",
      "execution_count": 5,
      "metadata": {
        "id": "gd2q4l0LjDwE"
      },
      "outputs": [],
      "source": [
        "MapUrl = getMapUrl()"
      ]
    },
    {
      "cell_type": "code",
      "execution_count": 6,
      "metadata": {
        "colab": {
          "base_uri": "https://localhost:8080/"
        },
        "id": "GzCHraamkSa9",
        "outputId": "fc9c74c0-d8fb-4eff-ef7f-506c3a2bccd3"
      },
      "outputs": [
        {
          "data": {
            "text/plain": [
              "['Fracture', 'Bind', 'Split', 'Icebox', 'Breeze', 'Ascent', 'Haven']"
            ]
          },
          "execution_count": 6,
          "metadata": {},
          "output_type": "execute_result"
        }
      ],
      "source": [
        "MapUrl"
      ]
    },
    {
      "cell_type": "code",
      "execution_count": 7,
      "metadata": {
        "id": "HaUgvr2b2cXG"
      },
      "outputs": [],
      "source": [
        "mapCountryUrl = []"
      ]
    },
    {
      "cell_type": "code",
      "execution_count": 8,
      "metadata": {
        "id": "kW21f4DC2w63"
      },
      "outputs": [],
      "source": [
        "def getMapCountryUrl():\n",
        "    active = []\n",
        "    for map in MapUrl:\n",
        "\n",
        "        src = getSrc(url,map)\n",
        "\n",
        "        finder = '<\\/div>\\s<div class=\"infobox-cell-2\"><span class=\"flag\"><a href=\"\\/valorant\\/Category:(\\w+)'\n",
        "        if map == 'Breeze':\n",
        "          active.append('None')\n",
        "        for info in re.findall(finder,src):\n",
        "          active.append(info)\n",
        "                \n",
        "        time.sleep(3)\n",
        "\n",
        "    return active\n",
        "    "
      ]
    },
    {
      "cell_type": "code",
      "execution_count": 9,
      "metadata": {
        "id": "UBZTpddM8ocE"
      },
      "outputs": [],
      "source": [
        "mapCountryUrl = getMapCountryUrl()"
      ]
    },
    {
      "cell_type": "code",
      "execution_count": 10,
      "metadata": {
        "colab": {
          "base_uri": "https://localhost:8080/"
        },
        "id": "5RYUalQi9QZu",
        "outputId": "6a423321-ad04-4cd2-92b6-8d7aec9cb898"
      },
      "outputs": [
        {
          "data": {
            "text/plain": [
              "['United_States', 'Morocco', 'Japan', 'Russia', 'None', 'Italy', 'Bhutan']"
            ]
          },
          "execution_count": 10,
          "metadata": {},
          "output_type": "execute_result"
        }
      ],
      "source": [
        "mapCountryUrl"
      ]
    },
    {
      "cell_type": "code",
      "execution_count": 11,
      "metadata": {
        "id": "QnScdQrXNebK"
      },
      "outputs": [],
      "source": [
        "mapDateUrl = []"
      ]
    },
    {
      "cell_type": "code",
      "execution_count": 12,
      "metadata": {
        "id": "U-IhvcrjOcXP"
      },
      "outputs": [],
      "source": [
        "def getMapDateUrl():\n",
        "    active = []\n",
        "    for map in MapUrl:\n",
        "\n",
        "        src = getSrc(url,map)\n",
        "\n",
        "        finder = 'Release Date:<\\/div>\\s<div class=\"infobox-cell-2\">(\\d+-\\d+-\\d+)'\n",
        "        \n",
        "        for info in re.findall(finder,src):\n",
        "          active.append(info)\n",
        "                \n",
        "        time.sleep(3)\n",
        "\n",
        "    return active\n",
        "    "
      ]
    },
    {
      "cell_type": "code",
      "execution_count": 13,
      "metadata": {
        "id": "PrHYJaFpOimD"
      },
      "outputs": [],
      "source": [
        "mapDateUrl = getMapDateUrl()"
      ]
    },
    {
      "cell_type": "code",
      "execution_count": 14,
      "metadata": {
        "colab": {
          "base_uri": "https://localhost:8080/"
        },
        "id": "p6nH7hbbOq4o",
        "outputId": "0ce4ec60-1e76-49dd-991b-82669ce359d6"
      },
      "outputs": [
        {
          "data": {
            "text/plain": [
              "['2021-09-08',\n",
              " '2020-04-07',\n",
              " '2020-04-07',\n",
              " '2020-10-13',\n",
              " '2021-04-27',\n",
              " '2020-06-02',\n",
              " '2020-04-07']"
            ]
          },
          "execution_count": 14,
          "metadata": {},
          "output_type": "execute_result"
        }
      ],
      "source": [
        "mapDateUrl"
      ]
    },
    {
      "cell_type": "code",
      "execution_count": 15,
      "metadata": {
        "id": "brqgktoKPqdU"
      },
      "outputs": [],
      "source": [
        "mapBombUrl = []"
      ]
    },
    {
      "cell_type": "code",
      "execution_count": 16,
      "metadata": {
        "id": "dQZKS0mbPqdU"
      },
      "outputs": [],
      "source": [
        "def getMapBombUrl():\n",
        "    active = []\n",
        "    for map in MapUrl:\n",
        "\n",
        "        src = getSrc(url,map)\n",
        "\n",
        "        finder = 'Bomb Sites:<\\/div>\\s<div class=\"infobox-cell-2\">(\\d)'\n",
        "        \n",
        "        for info in re.findall(finder,src):\n",
        "          active.append(info)\n",
        "                \n",
        "        time.sleep(3)\n",
        "\n",
        "    return active\n",
        "    "
      ]
    },
    {
      "cell_type": "code",
      "execution_count": 17,
      "metadata": {
        "id": "eBPShfJMPqdU"
      },
      "outputs": [],
      "source": [
        "mapBombUrl = getMapBombUrl()"
      ]
    },
    {
      "cell_type": "code",
      "execution_count": 18,
      "metadata": {
        "colab": {
          "base_uri": "https://localhost:8080/"
        },
        "id": "4kloRQlOPqdU",
        "outputId": "1058d316-309e-427a-bba5-3ff0b3a04e79"
      },
      "outputs": [
        {
          "data": {
            "text/plain": [
              "['2', '2', '2', '2', '2', '2', '3']"
            ]
          },
          "execution_count": 18,
          "metadata": {},
          "output_type": "execute_result"
        }
      ],
      "source": [
        "mapBombUrl"
      ]
    },
    {
      "cell_type": "code",
      "execution_count": 19,
      "metadata": {
        "id": "if2oNvSWQMOh"
      },
      "outputs": [],
      "source": [
        "mapTeleportUrl = []"
      ]
    },
    {
      "cell_type": "code",
      "execution_count": 20,
      "metadata": {
        "id": "7vhBkZgZQMOi"
      },
      "outputs": [],
      "source": [
        "def getMapTeleportUrl():\n",
        "    active = []\n",
        "    for map in MapUrl:\n",
        "\n",
        "        src = getSrc(url,map)\n",
        "\n",
        "        finder = 'Teleporters:<\\/div>\\s<div class=\"infobox-cell-2\">(\\d)'\n",
        "        if map == 'Breeze':\n",
        "          active.append('0')\n",
        "        elif map == 'Icebox':\n",
        "          active.append('0')\n",
        "        elif map == 'Haven':\n",
        "          active.append('0')\n",
        "        for info in re.findall(finder,src):\n",
        "            active.append(info)\n",
        "                \n",
        "        time.sleep(3)\n",
        "\n",
        "    return active\n",
        "    "
      ]
    },
    {
      "cell_type": "code",
      "execution_count": 21,
      "metadata": {
        "id": "3CQd4asWQMOi"
      },
      "outputs": [],
      "source": [
        "mapTeleportUrl = getMapTeleportUrl()"
      ]
    },
    {
      "cell_type": "code",
      "execution_count": 22,
      "metadata": {
        "colab": {
          "base_uri": "https://localhost:8080/"
        },
        "id": "GYqPx60-QMOj",
        "outputId": "cb6583a5-9086-4f8d-8073-a763ead55726"
      },
      "outputs": [
        {
          "data": {
            "text/plain": [
              "['0', '2', '0', '0', '0', '0', '0']"
            ]
          },
          "execution_count": 22,
          "metadata": {},
          "output_type": "execute_result"
        }
      ],
      "source": [
        "mapTeleportUrl"
      ]
    },
    {
      "cell_type": "code",
      "execution_count": 23,
      "metadata": {
        "id": "tomv-LtfcWjD"
      },
      "outputs": [],
      "source": [
        "mapTopDown = []"
      ]
    },
    {
      "cell_type": "code",
      "execution_count": 24,
      "metadata": {
        "id": "YtjA7pTJcbpi"
      },
      "outputs": [],
      "source": [
        "def getMapTopDownUrl():\n",
        "    active = []\n",
        "    for map in MapUrl:\n",
        "\n",
        "        src = getSrc(url,map)\n",
        "\n",
        "        finder = ' class=\"image\"><img alt=\"\" src=\"(.+.png)\"'\n",
        "        \n",
        "        for info in re.findall(finder,src):\n",
        "          active.append(info)\n",
        "                \n",
        "        time.sleep(3)\n",
        "\n",
        "    return active"
      ]
    },
    {
      "cell_type": "code",
      "execution_count": 25,
      "metadata": {
        "id": "iMDkpdI1cr9m"
      },
      "outputs": [],
      "source": [
        "mapTopDown = getMapTopDownUrl()"
      ]
    },
    {
      "cell_type": "code",
      "execution_count": 26,
      "metadata": {
        "colab": {
          "base_uri": "https://localhost:8080/"
        },
        "id": "DTcUn7sbcykO",
        "outputId": "085e4cbd-d0b6-4655-b6db-a77080f2c22b"
      },
      "outputs": [
        {
          "data": {
            "text/plain": [
              "['/commons/images/thumb/2/23/Fracture_Map.png/600px-Fracture_Map.png',\n",
              " '/commons/images/thumb/8/80/Bind_Map.png/600px-Bind_Map.png',\n",
              " '/commons/images/thumb/d/d4/Split_Map.png/600px-Split_Map.png',\n",
              " '/commons/images/thumb/e/ea/Icebox_Map.png/600px-Icebox_Map.png',\n",
              " '/commons/images/thumb/5/50/Breeze_Map.png/600px-Breeze_Map.png',\n",
              " '/commons/images/thumb/8/80/Ascent_Map.png/600px-Ascent_Map.png',\n",
              " '/commons/images/thumb/7/73/Haven_Map.png/600px-Haven_Map.png']"
            ]
          },
          "execution_count": 26,
          "metadata": {},
          "output_type": "execute_result"
        }
      ],
      "source": [
        "mapTopDown"
      ]
    },
    {
      "cell_type": "code",
      "execution_count": 27,
      "metadata": {
        "id": "QcxHvNZhf27r"
      },
      "outputs": [],
      "source": [
        "mapInfo =[]"
      ]
    },
    {
      "cell_type": "code",
      "execution_count": 31,
      "metadata": {},
      "outputs": [
        {
          "data": {
            "text/plain": [
              "'Morocco'"
            ]
          },
          "execution_count": 31,
          "metadata": {},
          "output_type": "execute_result"
        }
      ],
      "source": [
        "mapCountryUrl[1]"
      ]
    },
    {
      "cell_type": "code",
      "execution_count": 45,
      "metadata": {},
      "outputs": [],
      "source": [
        " mapInfo=[]"
      ]
    },
    {
      "cell_type": "code",
      "execution_count": 46,
      "metadata": {
        "id": "Bq99CnYViEPQ"
      },
      "outputs": [
        {
          "name": "stdout",
          "output_type": "stream",
          "text": [
            "{'mapName': 'Fracture', 'country': 'United_States', 'releaseDate': '2021-09-08', 'bombSites': '2', 'teloporters': '0', 'imageUrl': '/commons/images/thumb/2/23/Fracture_Map.png/600px-Fracture_Map.png'}\n",
            "{'mapName': 'Bind', 'country': 'Morocco', 'releaseDate': '2020-04-07', 'bombSites': '2', 'teloporters': '2', 'imageUrl': '/commons/images/thumb/8/80/Bind_Map.png/600px-Bind_Map.png'}\n",
            "{'mapName': 'Split', 'country': 'Japan', 'releaseDate': '2020-04-07', 'bombSites': '2', 'teloporters': '0', 'imageUrl': '/commons/images/thumb/d/d4/Split_Map.png/600px-Split_Map.png'}\n",
            "{'mapName': 'Icebox', 'country': 'Russia', 'releaseDate': '2020-10-13', 'bombSites': '2', 'teloporters': '0', 'imageUrl': '/commons/images/thumb/e/ea/Icebox_Map.png/600px-Icebox_Map.png'}\n",
            "{'mapName': 'Breeze', 'country': 'None', 'releaseDate': '2021-04-27', 'bombSites': '2', 'teloporters': '0', 'imageUrl': '/commons/images/thumb/5/50/Breeze_Map.png/600px-Breeze_Map.png'}\n",
            "{'mapName': 'Ascent', 'country': 'Italy', 'releaseDate': '2020-06-02', 'bombSites': '2', 'teloporters': '0', 'imageUrl': '/commons/images/thumb/8/80/Ascent_Map.png/600px-Ascent_Map.png'}\n",
            "{'mapName': 'Haven', 'country': 'Bhutan', 'releaseDate': '2020-04-07', 'bombSites': '3', 'teloporters': '0', 'imageUrl': '/commons/images/thumb/7/73/Haven_Map.png/600px-Haven_Map.png'}\n"
          ]
        }
      ],
      "source": [
        "t = 0\n",
        "for map in MapUrl:\n",
        "  thisdict = {\n",
        "    'map Name':str(map),\n",
        "    'country':str(mapCountryUrl[t]),\n",
        "    'release Date':str(mapDateUrl[t]),\n",
        "    'bomb Sites':str(mapBombUrl[t]),\n",
        "    'teloporters':str(mapTeleportUrl[t]),\n",
        "    'image Url':str(mapTopDown[t])\n",
        "  }\n",
        "  \n",
        "  thisdict = {x.replace(' ', ''): v \n",
        "     for x, v in thisdict.items()}\n",
        "  print(thisdict)\n",
        "  mapInfo.append(thisdict)\n",
        "  t += 1"
      ]
    },
    {
      "cell_type": "code",
      "execution_count": 47,
      "metadata": {
        "colab": {
          "base_uri": "https://localhost:8080/"
        },
        "id": "g_Uzy9IgpsXc",
        "outputId": "df51e9c8-e78b-48f1-a629-28a2e8167a16"
      },
      "outputs": [
        {
          "data": {
            "text/plain": [
              "[{'mapName': 'Fracture',\n",
              "  'country': 'United_States',\n",
              "  'releaseDate': '2021-09-08',\n",
              "  'bombSites': '2',\n",
              "  'teloporters': '0',\n",
              "  'imageUrl': '/commons/images/thumb/2/23/Fracture_Map.png/600px-Fracture_Map.png'},\n",
              " {'mapName': 'Bind',\n",
              "  'country': 'Morocco',\n",
              "  'releaseDate': '2020-04-07',\n",
              "  'bombSites': '2',\n",
              "  'teloporters': '2',\n",
              "  'imageUrl': '/commons/images/thumb/8/80/Bind_Map.png/600px-Bind_Map.png'},\n",
              " {'mapName': 'Split',\n",
              "  'country': 'Japan',\n",
              "  'releaseDate': '2020-04-07',\n",
              "  'bombSites': '2',\n",
              "  'teloporters': '0',\n",
              "  'imageUrl': '/commons/images/thumb/d/d4/Split_Map.png/600px-Split_Map.png'},\n",
              " {'mapName': 'Icebox',\n",
              "  'country': 'Russia',\n",
              "  'releaseDate': '2020-10-13',\n",
              "  'bombSites': '2',\n",
              "  'teloporters': '0',\n",
              "  'imageUrl': '/commons/images/thumb/e/ea/Icebox_Map.png/600px-Icebox_Map.png'},\n",
              " {'mapName': 'Breeze',\n",
              "  'country': 'None',\n",
              "  'releaseDate': '2021-04-27',\n",
              "  'bombSites': '2',\n",
              "  'teloporters': '0',\n",
              "  'imageUrl': '/commons/images/thumb/5/50/Breeze_Map.png/600px-Breeze_Map.png'},\n",
              " {'mapName': 'Ascent',\n",
              "  'country': 'Italy',\n",
              "  'releaseDate': '2020-06-02',\n",
              "  'bombSites': '2',\n",
              "  'teloporters': '0',\n",
              "  'imageUrl': '/commons/images/thumb/8/80/Ascent_Map.png/600px-Ascent_Map.png'},\n",
              " {'mapName': 'Haven',\n",
              "  'country': 'Bhutan',\n",
              "  'releaseDate': '2020-04-07',\n",
              "  'bombSites': '3',\n",
              "  'teloporters': '0',\n",
              "  'imageUrl': '/commons/images/thumb/7/73/Haven_Map.png/600px-Haven_Map.png'}]"
            ]
          },
          "execution_count": 47,
          "metadata": {},
          "output_type": "execute_result"
        }
      ],
      "source": [
        "mapInfo"
      ]
    },
    {
      "cell_type": "code",
      "execution_count": 48,
      "metadata": {
        "id": "7DqJYqWS-rPn"
      },
      "outputs": [
        {
          "ename": "ModuleNotFoundError",
          "evalue": "No module named 'google'",
          "output_type": "error",
          "traceback": [
            "\u001b[1;31m---------------------------------------------------------------------------\u001b[0m",
            "\u001b[1;31mModuleNotFoundError\u001b[0m                       Traceback (most recent call last)",
            "\u001b[1;32m~\\AppData\\Local\\Temp/ipykernel_13820/2063166806.py\u001b[0m in \u001b[0;36m<module>\u001b[1;34m\u001b[0m\n\u001b[0;32m      1\u001b[0m \u001b[1;32mimport\u001b[0m \u001b[0mjson\u001b[0m\u001b[1;33m\u001b[0m\u001b[1;33m\u001b[0m\u001b[0m\n\u001b[1;32m----> 2\u001b[1;33m \u001b[1;32mfrom\u001b[0m \u001b[0mgoogle\u001b[0m\u001b[1;33m.\u001b[0m\u001b[0mcolab\u001b[0m \u001b[1;32mimport\u001b[0m \u001b[0mfiles\u001b[0m\u001b[1;33m\u001b[0m\u001b[1;33m\u001b[0m\u001b[0m\n\u001b[0m",
            "\u001b[1;31mModuleNotFoundError\u001b[0m: No module named 'google'"
          ]
        }
      ],
      "source": [
        "import json\n",
        "from google.colab import files"
      ]
    },
    {
      "cell_type": "code",
      "execution_count": 110,
      "metadata": {
        "id": "jUM6Rn0P-ziq"
      },
      "outputs": [],
      "source": [
        "Map = json.dumps(mapInfo, allow_nan = True, indent = 5)\n",
        "with open('map.json', 'w') as f:\n",
        "  f.write(str(Map))"
      ]
    },
    {
      "cell_type": "code",
      "execution_count": 111,
      "metadata": {
        "colab": {
          "base_uri": "https://localhost:8080/",
          "height": 17
        },
        "id": "zYY-SrdBDjYW",
        "outputId": "9ddb766e-6387-410b-d28c-03a036809143"
      },
      "outputs": [
        {
          "data": {
            "application/javascript": "\n    async function download(id, filename, size) {\n      if (!google.colab.kernel.accessAllowed) {\n        return;\n      }\n      const div = document.createElement('div');\n      const label = document.createElement('label');\n      label.textContent = `Downloading \"${filename}\": `;\n      div.appendChild(label);\n      const progress = document.createElement('progress');\n      progress.max = size;\n      div.appendChild(progress);\n      document.body.appendChild(div);\n\n      const buffers = [];\n      let downloaded = 0;\n\n      const channel = await google.colab.kernel.comms.open(id);\n      // Send a message to notify the kernel that we're ready.\n      channel.send({})\n\n      for await (const message of channel.messages) {\n        // Send a message to notify the kernel that we're ready.\n        channel.send({})\n        if (message.buffers) {\n          for (const buffer of message.buffers) {\n            buffers.push(buffer);\n            downloaded += buffer.byteLength;\n            progress.value = downloaded;\n          }\n        }\n      }\n      const blob = new Blob(buffers, {type: 'application/binary'});\n      const a = document.createElement('a');\n      a.href = window.URL.createObjectURL(blob);\n      a.download = filename;\n      div.appendChild(a);\n      a.click();\n      div.remove();\n    }\n  ",
            "text/plain": [
              "<IPython.core.display.Javascript object>"
            ]
          },
          "metadata": {},
          "output_type": "display_data"
        },
        {
          "data": {
            "application/javascript": "download(\"download_ff9d5131-7366-49a2-8b96-487b3d3ae946\", \"map.json\", 1904)",
            "text/plain": [
              "<IPython.core.display.Javascript object>"
            ]
          },
          "metadata": {},
          "output_type": "display_data"
        }
      ],
      "source": [
        "files.download('map.json')"
      ]
    },
    {
      "cell_type": "code",
      "execution_count": 112,
      "metadata": {
        "colab": {
          "base_uri": "https://localhost:8080/"
        },
        "id": "lw95zMQb_C7k",
        "outputId": "10b28d46-12f3-4cf5-ef6e-f5c2741871bf"
      },
      "outputs": [
        {
          "name": "stdout",
          "output_type": "stream",
          "text": [
            "[\n",
            "     {\n",
            "          \"mapName\": \"Fracture\",\n",
            "          \"country\": \"United_States\",\n",
            "          \"releaseDate\": \"2021-09-08\",\n",
            "          \"bombSites\": \"2\",\n",
            "          \"teloporters\": \"0\",\n",
            "          \"imageUrl\": \"/commons/images/thumb/2/23/Fracture_Map.png/600px-Fracture_Map.png\"\n",
            "     },\n",
            "     {\n",
            "          \"mapName\": \"Bind\",\n",
            "          \"country\": \"United_States\",\n",
            "          \"releaseDate\": \"2021-09-08\",\n",
            "          \"bombSites\": \"2\",\n",
            "          \"teloporters\": \"0\",\n",
            "          \"imageUrl\": \"/commons/images/thumb/2/23/Fracture_Map.png/600px-Fracture_Map.png\"\n",
            "     },\n",
            "     {\n",
            "          \"mapName\": \"Split\",\n",
            "          \"country\": \"United_States\",\n",
            "          \"releaseDate\": \"2021-09-08\",\n",
            "          \"bombSites\": \"2\",\n",
            "          \"teloporters\": \"0\",\n",
            "          \"imageUrl\": \"/commons/images/thumb/2/23/Fracture_Map.png/600px-Fracture_Map.png\"\n",
            "     },\n",
            "     {\n",
            "          \"mapName\": \"Icebox\",\n",
            "          \"country\": \"United_States\",\n",
            "          \"releaseDate\": \"2021-09-08\",\n",
            "          \"bombSites\": \"2\",\n",
            "          \"teloporters\": \"0\",\n",
            "          \"imageUrl\": \"/commons/images/thumb/2/23/Fracture_Map.png/600px-Fracture_Map.png\"\n",
            "     },\n",
            "     {\n",
            "          \"mapName\": \"Breeze\",\n",
            "          \"country\": \"United_States\",\n",
            "          \"releaseDate\": \"2021-09-08\",\n",
            "          \"bombSites\": \"2\",\n",
            "          \"teloporters\": \"0\",\n",
            "          \"imageUrl\": \"/commons/images/thumb/2/23/Fracture_Map.png/600px-Fracture_Map.png\"\n",
            "     },\n",
            "     {\n",
            "          \"mapName\": \"Ascent\",\n",
            "          \"country\": \"United_States\",\n",
            "          \"releaseDate\": \"2021-09-08\",\n",
            "          \"bombSites\": \"2\",\n",
            "          \"teloporters\": \"0\",\n",
            "          \"imageUrl\": \"/commons/images/thumb/2/23/Fracture_Map.png/600px-Fracture_Map.png\"\n",
            "     },\n",
            "     {\n",
            "          \"mapName\": \"Haven\",\n",
            "          \"country\": \"United_States\",\n",
            "          \"releaseDate\": \"2021-09-08\",\n",
            "          \"bombSites\": \"2\",\n",
            "          \"teloporters\": \"0\",\n",
            "          \"imageUrl\": \"/commons/images/thumb/2/23/Fracture_Map.png/600px-Fracture_Map.png\"\n",
            "     }\n",
            "]\n"
          ]
        }
      ],
      "source": [
        "print(Map)"
      ]
    }
  ],
  "metadata": {
    "colab": {
      "collapsed_sections": [],
      "name": "Toc",
      "provenance": []
    },
    "kernelspec": {
      "display_name": "Python 3",
      "name": "python3"
    },
    "language_info": {
      "codemirror_mode": {
        "name": "ipython",
        "version": 3
      },
      "file_extension": ".py",
      "mimetype": "text/x-python",
      "name": "python",
      "nbconvert_exporter": "python",
      "pygments_lexer": "ipython3",
      "version": "3.10.2"
    }
  },
  "nbformat": 4,
  "nbformat_minor": 0
}
