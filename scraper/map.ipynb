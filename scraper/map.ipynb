{
  "cells": [
    {
      "cell_type": "code",
      "source": [
        "import requests\n",
        "import re\n",
        "import time"
      ],
      "metadata": {
        "id": "PQ_cKRQUhtxp"
      },
      "execution_count": 80,
      "outputs": []
    },
    {
      "cell_type": "code",
      "source": [
        "url = \"https://liquipedia.net/valorant/\"\n",
        "MapUrl=[]"
      ],
      "metadata": {
        "id": "zn-jtQ8ThxVC"
      },
      "execution_count": 81,
      "outputs": []
    },
    {
      "cell_type": "code",
      "source": [
        "def getSrc(url,id):\n",
        "    r = requests.get(url+id)\n",
        "    return r.text"
      ],
      "metadata": {
        "id": "eVUgrzC7iAgK"
      },
      "execution_count": 82,
      "outputs": []
    },
    {
      "cell_type": "code",
      "source": [
        "def getMapUrl():\n",
        "    active = []\n",
        "    src = getSrc(url, 'Portal:Maps')\n",
        "    \n",
        "    finder = '(\\w+) Map Banner'\n",
        "\n",
        "    for map in re.findall(finder,src):\n",
        "        if map not in active:\n",
        "            active.append(map)\n",
        "    return active"
      ],
      "metadata": {
        "id": "z9IX49lHitmQ"
      },
      "execution_count": 83,
      "outputs": []
    },
    {
      "cell_type": "code",
      "source": [
        "MapUrl = getMapUrl()"
      ],
      "metadata": {
        "id": "gd2q4l0LjDwE"
      },
      "execution_count": 84,
      "outputs": []
    },
    {
      "cell_type": "code",
      "source": [
        "MapUrl"
      ],
      "metadata": {
        "colab": {
          "base_uri": "https://localhost:8080/"
        },
        "id": "GzCHraamkSa9",
        "outputId": "fc9c74c0-d8fb-4eff-ef7f-506c3a2bccd3"
      },
      "execution_count": 85,
      "outputs": [
        {
          "output_type": "execute_result",
          "data": {
            "text/plain": [
              "['Fracture', 'Bind', 'Split', 'Icebox', 'Breeze', 'Ascent', 'Haven']"
            ]
          },
          "metadata": {},
          "execution_count": 85
        }
      ]
    },
    {
      "cell_type": "code",
      "source": [
        "mapCountryUrl = []"
      ],
      "metadata": {
        "id": "HaUgvr2b2cXG"
      },
      "execution_count": 86,
      "outputs": []
    },
    {
      "cell_type": "code",
      "source": [
        "def getMapCountryUrl():\n",
        "    active = []\n",
        "    for map in MapUrl:\n",
        "\n",
        "        src = getSrc(url,map)\n",
        "\n",
        "        finder = '<\\/div>\\s<div class=\"infobox-cell-2\"><span class=\"flag\"><a href=\"\\/valorant\\/Category:(\\w+)'\n",
        "        if map == 'Breeze':\n",
        "          active.append('None')\n",
        "        for info in re.findall(finder,src):\n",
        "          active.append(info)\n",
        "                \n",
        "        time.sleep(3)\n",
        "\n",
        "    return active\n",
        "    "
      ],
      "metadata": {
        "id": "kW21f4DC2w63"
      },
      "execution_count": 87,
      "outputs": []
    },
    {
      "cell_type": "code",
      "source": [
        "mapCountryUrl = getMapCountryUrl()"
      ],
      "metadata": {
        "id": "UBZTpddM8ocE"
      },
      "execution_count": 88,
      "outputs": []
    },
    {
      "cell_type": "code",
      "source": [
        "mapCountryUrl"
      ],
      "metadata": {
        "colab": {
          "base_uri": "https://localhost:8080/"
        },
        "id": "5RYUalQi9QZu",
        "outputId": "6a423321-ad04-4cd2-92b6-8d7aec9cb898"
      },
      "execution_count": 89,
      "outputs": [
        {
          "output_type": "execute_result",
          "data": {
            "text/plain": [
              "['United_States', 'Morocco', 'Japan', 'Russia', 'None', 'Italy', 'Bhutan']"
            ]
          },
          "metadata": {},
          "execution_count": 89
        }
      ]
    },
    {
      "cell_type": "code",
      "source": [
        "mapDateUrl = []"
      ],
      "metadata": {
        "id": "QnScdQrXNebK"
      },
      "execution_count": 90,
      "outputs": []
    },
    {
      "cell_type": "code",
      "source": [
        "def getMapDateUrl():\n",
        "    active = []\n",
        "    for map in MapUrl:\n",
        "\n",
        "        src = getSrc(url,map)\n",
        "\n",
        "        finder = 'Release Date:<\\/div>\\s<div class=\"infobox-cell-2\">(\\d+-\\d+-\\d+)'\n",
        "        \n",
        "        for info in re.findall(finder,src):\n",
        "          active.append(info)\n",
        "                \n",
        "        time.sleep(3)\n",
        "\n",
        "    return active\n",
        "    "
      ],
      "metadata": {
        "id": "U-IhvcrjOcXP"
      },
      "execution_count": 91,
      "outputs": []
    },
    {
      "cell_type": "code",
      "source": [
        "mapDateUrl = getMapDateUrl()"
      ],
      "metadata": {
        "id": "PrHYJaFpOimD"
      },
      "execution_count": 92,
      "outputs": []
    },
    {
      "cell_type": "code",
      "source": [
        "mapDateUrl"
      ],
      "metadata": {
        "colab": {
          "base_uri": "https://localhost:8080/"
        },
        "id": "p6nH7hbbOq4o",
        "outputId": "0ce4ec60-1e76-49dd-991b-82669ce359d6"
      },
      "execution_count": 93,
      "outputs": [
        {
          "output_type": "execute_result",
          "data": {
            "text/plain": [
              "['2021-09-08',\n",
              " '2020-04-07',\n",
              " '2020-04-07',\n",
              " '2020-10-13',\n",
              " '2021-04-27',\n",
              " '2020-06-02',\n",
              " '2020-04-07']"
            ]
          },
          "metadata": {},
          "execution_count": 93
        }
      ]
    },
    {
      "cell_type": "code",
      "source": [
        "mapBombUrl = []"
      ],
      "metadata": {
        "id": "brqgktoKPqdU"
      },
      "execution_count": 94,
      "outputs": []
    },
    {
      "cell_type": "code",
      "source": [
        "def getMapBombUrl():\n",
        "    active = []\n",
        "    for map in MapUrl:\n",
        "\n",
        "        src = getSrc(url,map)\n",
        "\n",
        "        finder = 'Bomb Sites:<\\/div>\\s<div class=\"infobox-cell-2\">(\\d)'\n",
        "        \n",
        "        for info in re.findall(finder,src):\n",
        "          active.append(info)\n",
        "                \n",
        "        time.sleep(3)\n",
        "\n",
        "    return active\n",
        "    "
      ],
      "metadata": {
        "id": "dQZKS0mbPqdU"
      },
      "execution_count": 95,
      "outputs": []
    },
    {
      "cell_type": "code",
      "source": [
        "mapBombUrl = getMapBombUrl()"
      ],
      "metadata": {
        "id": "eBPShfJMPqdU"
      },
      "execution_count": 96,
      "outputs": []
    },
    {
      "cell_type": "code",
      "source": [
        "mapBombUrl"
      ],
      "metadata": {
        "outputId": "1058d316-309e-427a-bba5-3ff0b3a04e79",
        "colab": {
          "base_uri": "https://localhost:8080/"
        },
        "id": "4kloRQlOPqdU"
      },
      "execution_count": 97,
      "outputs": [
        {
          "output_type": "execute_result",
          "data": {
            "text/plain": [
              "['2', '2', '2', '2', '2', '2', '3']"
            ]
          },
          "metadata": {},
          "execution_count": 97
        }
      ]
    },
    {
      "cell_type": "code",
      "source": [
        "mapTeleportUrl = []"
      ],
      "metadata": {
        "id": "if2oNvSWQMOh"
      },
      "execution_count": 98,
      "outputs": []
    },
    {
      "cell_type": "code",
      "source": [
        "def getMapTeleportUrl():\n",
        "    active = []\n",
        "    for map in MapUrl:\n",
        "\n",
        "        src = getSrc(url,map)\n",
        "\n",
        "        finder = 'Teleporters:<\\/div>\\s<div class=\"infobox-cell-2\">(\\d)'\n",
        "        if map == 'Breeze':\n",
        "          active.append('0')\n",
        "        elif map == 'Icebox':\n",
        "          active.append('0')\n",
        "        elif map == 'Haven':\n",
        "          active.append('0')\n",
        "        for info in re.findall(finder,src):\n",
        "            active.append(info)\n",
        "                \n",
        "        time.sleep(3)\n",
        "\n",
        "    return active\n",
        "    "
      ],
      "metadata": {
        "id": "7vhBkZgZQMOi"
      },
      "execution_count": 99,
      "outputs": []
    },
    {
      "cell_type": "code",
      "source": [
        "mapTeleportUrl = getMapTeleportUrl()"
      ],
      "metadata": {
        "id": "3CQd4asWQMOi"
      },
      "execution_count": 100,
      "outputs": []
    },
    {
      "cell_type": "code",
      "source": [
        "mapTeleportUrl"
      ],
      "metadata": {
        "outputId": "cb6583a5-9086-4f8d-8073-a763ead55726",
        "colab": {
          "base_uri": "https://localhost:8080/"
        },
        "id": "GYqPx60-QMOj"
      },
      "execution_count": 101,
      "outputs": [
        {
          "output_type": "execute_result",
          "data": {
            "text/plain": [
              "['0', '2', '0', '0', '0', '0', '0']"
            ]
          },
          "metadata": {},
          "execution_count": 101
        }
      ]
    },
    {
      "cell_type": "code",
      "source": [
        "mapTopDown = []"
      ],
      "metadata": {
        "id": "tomv-LtfcWjD"
      },
      "execution_count": 102,
      "outputs": []
    },
    {
      "cell_type": "code",
      "source": [
        "def getMapTopDownUrl():\n",
        "    active = []\n",
        "    for map in MapUrl:\n",
        "\n",
        "        src = getSrc(url,map)\n",
        "\n",
        "        finder = ' class=\"image\"><img alt=\"\" src=\"(.+.png)\"'\n",
        "        \n",
        "        for info in re.findall(finder,src):\n",
        "          active.append(info)\n",
        "                \n",
        "        time.sleep(3)\n",
        "\n",
        "    return active"
      ],
      "metadata": {
        "id": "YtjA7pTJcbpi"
      },
      "execution_count": 103,
      "outputs": []
    },
    {
      "cell_type": "code",
      "source": [
        "mapTopDown = getMapTopDownUrl()"
      ],
      "metadata": {
        "id": "iMDkpdI1cr9m"
      },
      "execution_count": 104,
      "outputs": []
    },
    {
      "cell_type": "code",
      "source": [
        "mapTopDown"
      ],
      "metadata": {
        "colab": {
          "base_uri": "https://localhost:8080/"
        },
        "id": "DTcUn7sbcykO",
        "outputId": "085e4cbd-d0b6-4655-b6db-a77080f2c22b"
      },
      "execution_count": 105,
      "outputs": [
        {
          "output_type": "execute_result",
          "data": {
            "text/plain": [
              "['/commons/images/thumb/2/23/Fracture_Map.png/600px-Fracture_Map.png',\n",
              " '/commons/images/thumb/8/80/Bind_Map.png/600px-Bind_Map.png',\n",
              " '/commons/images/thumb/d/d4/Split_Map.png/600px-Split_Map.png',\n",
              " '/commons/images/thumb/e/ea/Icebox_Map.png/600px-Icebox_Map.png',\n",
              " '/commons/images/thumb/5/50/Breeze_Map.png/600px-Breeze_Map.png',\n",
              " '/commons/images/thumb/8/80/Ascent_Map.png/600px-Ascent_Map.png',\n",
              " '/commons/images/thumb/7/73/Haven_Map.png/600px-Haven_Map.png']"
            ]
          },
          "metadata": {},
          "execution_count": 105
        }
      ]
    },
    {
      "cell_type": "code",
      "source": [
        "mapInfo =[]"
      ],
      "metadata": {
        "id": "QcxHvNZhf27r"
      },
      "execution_count": 106,
      "outputs": []
    },
    {
      "cell_type": "code",
      "source": [
        "for map in MapUrl:\n",
        "  t = 0\n",
        "  thisdict = {\n",
        "    'map Name':str(map),\n",
        "    'country':str(mapCountryUrl[t]),\n",
        "    'release Date':str(mapDateUrl[t]),\n",
        "    'bomb Sites':str(mapBombUrl[t]),\n",
        "    'teloporters':str(mapTeleportUrl[t]),\n",
        "    'image Url':str(mapTopDown[t])\n",
        "  }\n",
        "  thisdict = {x.replace(' ', ''): v \n",
        "     for x, v in thisdict.items()}\n",
        "     \n",
        "  mapInfo.append(thisdict)\n",
        "  t += 1"
      ],
      "metadata": {
        "id": "Bq99CnYViEPQ"
      },
      "execution_count": 107,
      "outputs": []
    },
    {
      "cell_type": "code",
      "source": [
        "mapInfo"
      ],
      "metadata": {
        "colab": {
          "base_uri": "https://localhost:8080/"
        },
        "id": "g_Uzy9IgpsXc",
        "outputId": "df51e9c8-e78b-48f1-a629-28a2e8167a16"
      },
      "execution_count": 108,
      "outputs": [
        {
          "output_type": "execute_result",
          "data": {
            "text/plain": [
              "[{'bombSites': '2',\n",
              "  'country': 'United_States',\n",
              "  'imageUrl': '/commons/images/thumb/2/23/Fracture_Map.png/600px-Fracture_Map.png',\n",
              "  'mapName': 'Fracture',\n",
              "  'releaseDate': '2021-09-08',\n",
              "  'teloporters': '0'},\n",
              " {'bombSites': '2',\n",
              "  'country': 'United_States',\n",
              "  'imageUrl': '/commons/images/thumb/2/23/Fracture_Map.png/600px-Fracture_Map.png',\n",
              "  'mapName': 'Bind',\n",
              "  'releaseDate': '2021-09-08',\n",
              "  'teloporters': '0'},\n",
              " {'bombSites': '2',\n",
              "  'country': 'United_States',\n",
              "  'imageUrl': '/commons/images/thumb/2/23/Fracture_Map.png/600px-Fracture_Map.png',\n",
              "  'mapName': 'Split',\n",
              "  'releaseDate': '2021-09-08',\n",
              "  'teloporters': '0'},\n",
              " {'bombSites': '2',\n",
              "  'country': 'United_States',\n",
              "  'imageUrl': '/commons/images/thumb/2/23/Fracture_Map.png/600px-Fracture_Map.png',\n",
              "  'mapName': 'Icebox',\n",
              "  'releaseDate': '2021-09-08',\n",
              "  'teloporters': '0'},\n",
              " {'bombSites': '2',\n",
              "  'country': 'United_States',\n",
              "  'imageUrl': '/commons/images/thumb/2/23/Fracture_Map.png/600px-Fracture_Map.png',\n",
              "  'mapName': 'Breeze',\n",
              "  'releaseDate': '2021-09-08',\n",
              "  'teloporters': '0'},\n",
              " {'bombSites': '2',\n",
              "  'country': 'United_States',\n",
              "  'imageUrl': '/commons/images/thumb/2/23/Fracture_Map.png/600px-Fracture_Map.png',\n",
              "  'mapName': 'Ascent',\n",
              "  'releaseDate': '2021-09-08',\n",
              "  'teloporters': '0'},\n",
              " {'bombSites': '2',\n",
              "  'country': 'United_States',\n",
              "  'imageUrl': '/commons/images/thumb/2/23/Fracture_Map.png/600px-Fracture_Map.png',\n",
              "  'mapName': 'Haven',\n",
              "  'releaseDate': '2021-09-08',\n",
              "  'teloporters': '0'}]"
            ]
          },
          "metadata": {},
          "execution_count": 108
        }
      ]
    },
    {
      "cell_type": "code",
      "source": [
        "import json\n",
        "from google.colab import files"
      ],
      "metadata": {
        "id": "7DqJYqWS-rPn"
      },
      "execution_count": 109,
      "outputs": []
    },
    {
      "cell_type": "code",
      "source": [
        "Map = json.dumps(mapInfo, allow_nan = True, indent = 5)\n",
        "with open('map.json', 'w') as f:\n",
        "  f.write(str(Map))"
      ],
      "metadata": {
        "id": "jUM6Rn0P-ziq"
      },
      "execution_count": 110,
      "outputs": []
    },
    {
      "cell_type": "code",
      "source": [
        "files.download('map.json')"
      ],
      "metadata": {
        "colab": {
          "base_uri": "https://localhost:8080/",
          "height": 17
        },
        "id": "zYY-SrdBDjYW",
        "outputId": "9ddb766e-6387-410b-d28c-03a036809143"
      },
      "execution_count": 111,
      "outputs": [
        {
          "output_type": "display_data",
          "data": {
            "text/plain": [
              "<IPython.core.display.Javascript object>"
            ],
            "application/javascript": [
              "\n",
              "    async function download(id, filename, size) {\n",
              "      if (!google.colab.kernel.accessAllowed) {\n",
              "        return;\n",
              "      }\n",
              "      const div = document.createElement('div');\n",
              "      const label = document.createElement('label');\n",
              "      label.textContent = `Downloading \"${filename}\": `;\n",
              "      div.appendChild(label);\n",
              "      const progress = document.createElement('progress');\n",
              "      progress.max = size;\n",
              "      div.appendChild(progress);\n",
              "      document.body.appendChild(div);\n",
              "\n",
              "      const buffers = [];\n",
              "      let downloaded = 0;\n",
              "\n",
              "      const channel = await google.colab.kernel.comms.open(id);\n",
              "      // Send a message to notify the kernel that we're ready.\n",
              "      channel.send({})\n",
              "\n",
              "      for await (const message of channel.messages) {\n",
              "        // Send a message to notify the kernel that we're ready.\n",
              "        channel.send({})\n",
              "        if (message.buffers) {\n",
              "          for (const buffer of message.buffers) {\n",
              "            buffers.push(buffer);\n",
              "            downloaded += buffer.byteLength;\n",
              "            progress.value = downloaded;\n",
              "          }\n",
              "        }\n",
              "      }\n",
              "      const blob = new Blob(buffers, {type: 'application/binary'});\n",
              "      const a = document.createElement('a');\n",
              "      a.href = window.URL.createObjectURL(blob);\n",
              "      a.download = filename;\n",
              "      div.appendChild(a);\n",
              "      a.click();\n",
              "      div.remove();\n",
              "    }\n",
              "  "
            ]
          },
          "metadata": {}
        },
        {
          "output_type": "display_data",
          "data": {
            "text/plain": [
              "<IPython.core.display.Javascript object>"
            ],
            "application/javascript": [
              "download(\"download_ff9d5131-7366-49a2-8b96-487b3d3ae946\", \"map.json\", 1904)"
            ]
          },
          "metadata": {}
        }
      ]
    },
    {
      "cell_type": "code",
      "source": [
        "print(Map)"
      ],
      "metadata": {
        "colab": {
          "base_uri": "https://localhost:8080/"
        },
        "id": "lw95zMQb_C7k",
        "outputId": "10b28d46-12f3-4cf5-ef6e-f5c2741871bf"
      },
      "execution_count": 112,
      "outputs": [
        {
          "output_type": "stream",
          "name": "stdout",
          "text": [
            "[\n",
            "     {\n",
            "          \"mapName\": \"Fracture\",\n",
            "          \"country\": \"United_States\",\n",
            "          \"releaseDate\": \"2021-09-08\",\n",
            "          \"bombSites\": \"2\",\n",
            "          \"teloporters\": \"0\",\n",
            "          \"imageUrl\": \"/commons/images/thumb/2/23/Fracture_Map.png/600px-Fracture_Map.png\"\n",
            "     },\n",
            "     {\n",
            "          \"mapName\": \"Bind\",\n",
            "          \"country\": \"United_States\",\n",
            "          \"releaseDate\": \"2021-09-08\",\n",
            "          \"bombSites\": \"2\",\n",
            "          \"teloporters\": \"0\",\n",
            "          \"imageUrl\": \"/commons/images/thumb/2/23/Fracture_Map.png/600px-Fracture_Map.png\"\n",
            "     },\n",
            "     {\n",
            "          \"mapName\": \"Split\",\n",
            "          \"country\": \"United_States\",\n",
            "          \"releaseDate\": \"2021-09-08\",\n",
            "          \"bombSites\": \"2\",\n",
            "          \"teloporters\": \"0\",\n",
            "          \"imageUrl\": \"/commons/images/thumb/2/23/Fracture_Map.png/600px-Fracture_Map.png\"\n",
            "     },\n",
            "     {\n",
            "          \"mapName\": \"Icebox\",\n",
            "          \"country\": \"United_States\",\n",
            "          \"releaseDate\": \"2021-09-08\",\n",
            "          \"bombSites\": \"2\",\n",
            "          \"teloporters\": \"0\",\n",
            "          \"imageUrl\": \"/commons/images/thumb/2/23/Fracture_Map.png/600px-Fracture_Map.png\"\n",
            "     },\n",
            "     {\n",
            "          \"mapName\": \"Breeze\",\n",
            "          \"country\": \"United_States\",\n",
            "          \"releaseDate\": \"2021-09-08\",\n",
            "          \"bombSites\": \"2\",\n",
            "          \"teloporters\": \"0\",\n",
            "          \"imageUrl\": \"/commons/images/thumb/2/23/Fracture_Map.png/600px-Fracture_Map.png\"\n",
            "     },\n",
            "     {\n",
            "          \"mapName\": \"Ascent\",\n",
            "          \"country\": \"United_States\",\n",
            "          \"releaseDate\": \"2021-09-08\",\n",
            "          \"bombSites\": \"2\",\n",
            "          \"teloporters\": \"0\",\n",
            "          \"imageUrl\": \"/commons/images/thumb/2/23/Fracture_Map.png/600px-Fracture_Map.png\"\n",
            "     },\n",
            "     {\n",
            "          \"mapName\": \"Haven\",\n",
            "          \"country\": \"United_States\",\n",
            "          \"releaseDate\": \"2021-09-08\",\n",
            "          \"bombSites\": \"2\",\n",
            "          \"teloporters\": \"0\",\n",
            "          \"imageUrl\": \"/commons/images/thumb/2/23/Fracture_Map.png/600px-Fracture_Map.png\"\n",
            "     }\n",
            "]\n"
          ]
        }
      ]
    }
  ],
  "metadata": {
    "colab": {
      "collapsed_sections": [],
      "name": "Toc",
      "provenance": []
    },
    "kernelspec": {
      "display_name": "Python 3",
      "name": "python3"
    }
  },
  "nbformat": 4,
  "nbformat_minor": 0
}