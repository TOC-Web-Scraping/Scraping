{
  "cells": [
    {
      "cell_type": "code",
      "source": [
        "import requests\n",
        "import re\n",
        "import time"
      ],
      "metadata": {
        "id": "PQ_cKRQUhtxp"
      },
      "execution_count": 164,
      "outputs": []
    },
    {
      "cell_type": "code",
      "source": [
        "url = \"https://liquipedia.net/valorant/\"\n",
        "MapUrl=[]\n",
        "run = 0"
      ],
      "metadata": {
        "id": "zn-jtQ8ThxVC"
      },
      "execution_count": 165,
      "outputs": []
    },
    {
      "cell_type": "code",
      "source": [
        "def getSrc(url,id):\n",
        "    r = requests.get(url+id)\n",
        "    return r.text"
      ],
      "metadata": {
        "id": "eVUgrzC7iAgK"
      },
      "execution_count": 166,
      "outputs": []
    },
    {
      "cell_type": "code",
      "source": [
        "def getMapUrl():\n",
        "    active = []\n",
        "    src = getSrc(url, 'Portal:Maps')\n",
        "    \n",
        "    finder = '(\\w+) Map Banner'\n",
        "\n",
        "    for map in re.findall(finder,src):\n",
        "        if map not in active:\n",
        "            active.append(map)\n",
        "    return active"
      ],
      "metadata": {
        "id": "z9IX49lHitmQ"
      },
      "execution_count": 167,
      "outputs": []
    },
    {
      "cell_type": "code",
      "source": [
        "MapUrl = getMapUrl()"
      ],
      "metadata": {
        "id": "gd2q4l0LjDwE"
      },
      "execution_count": 168,
      "outputs": []
    },
    {
      "cell_type": "code",
      "source": [
        "MapUrl"
      ],
      "metadata": {
        "colab": {
          "base_uri": "https://localhost:8080/"
        },
        "id": "GzCHraamkSa9",
        "outputId": "cea26eef-eefe-428e-8a20-47052fe930f0"
      },
      "execution_count": 169,
      "outputs": [
        {
          "output_type": "execute_result",
          "data": {
            "text/plain": [
              "['Fracture', 'Bind', 'Split', 'Icebox', 'Breeze', 'Ascent', 'Haven']"
            ]
          },
          "metadata": {},
          "execution_count": 169
        }
      ]
    },
    {
      "cell_type": "code",
      "source": [
        "mapCountryUrl = []"
      ],
      "metadata": {
        "id": "HaUgvr2b2cXG"
      },
      "execution_count": 170,
      "outputs": []
    },
    {
      "cell_type": "code",
      "source": [
        "def getMapCountryUrl():\n",
        "    active = []\n",
        "    for map in MapUrl:\n",
        "\n",
        "        src = getSrc(url,map)\n",
        "\n",
        "        finder = '<\\/div>\\s<div class=\"infobox-cell-2\"><span class=\"flag\"><a href=\"\\/valorant\\/Category:(\\w+)'\n",
        "        if map == 'Breeze':\n",
        "          active.append('None')\n",
        "        for info in re.findall(finder,src):\n",
        "          active.append(info)\n",
        "                \n",
        "        time.sleep(3)\n",
        "\n",
        "    return active\n",
        "    "
      ],
      "metadata": {
        "id": "kW21f4DC2w63"
      },
      "execution_count": 171,
      "outputs": []
    },
    {
      "cell_type": "code",
      "source": [
        "mapCountryUrl = getMapCountryUrl()"
      ],
      "metadata": {
        "id": "UBZTpddM8ocE"
      },
      "execution_count": 172,
      "outputs": []
    },
    {
      "cell_type": "code",
      "source": [
        "mapCountryUrl"
      ],
      "metadata": {
        "colab": {
          "base_uri": "https://localhost:8080/"
        },
        "id": "5RYUalQi9QZu",
        "outputId": "fe14800d-fed1-45ef-b48a-6be38579bee1"
      },
      "execution_count": 173,
      "outputs": [
        {
          "output_type": "execute_result",
          "data": {
            "text/plain": [
              "['United_States', 'Morocco', 'Japan', 'Russia', 'None', 'Italy', 'Bhutan']"
            ]
          },
          "metadata": {},
          "execution_count": 173
        }
      ]
    },
    {
      "cell_type": "code",
      "source": [
        "mapDateUrl = []"
      ],
      "metadata": {
        "id": "QnScdQrXNebK"
      },
      "execution_count": 174,
      "outputs": []
    },
    {
      "cell_type": "code",
      "source": [
        "def getMapDateUrl():\n",
        "    active = []\n",
        "    for map in MapUrl:\n",
        "\n",
        "        src = getSrc(url,map)\n",
        "\n",
        "        finder = 'Release Date:<\\/div>\\s<div class=\"infobox-cell-2\">(\\d+-\\d+-\\d+)'\n",
        "        \n",
        "        for info in re.findall(finder,src):\n",
        "          active.append(info)\n",
        "                \n",
        "        time.sleep(3)\n",
        "\n",
        "    return active\n",
        "    "
      ],
      "metadata": {
        "id": "U-IhvcrjOcXP"
      },
      "execution_count": 175,
      "outputs": []
    },
    {
      "cell_type": "code",
      "source": [
        "mapDateUrl = getMapDateUrl()"
      ],
      "metadata": {
        "id": "PrHYJaFpOimD"
      },
      "execution_count": 176,
      "outputs": []
    },
    {
      "cell_type": "code",
      "source": [
        "mapDateUrl"
      ],
      "metadata": {
        "colab": {
          "base_uri": "https://localhost:8080/"
        },
        "id": "p6nH7hbbOq4o",
        "outputId": "cdf13438-843f-480b-ec5a-ea9982cd38a8"
      },
      "execution_count": 177,
      "outputs": [
        {
          "output_type": "execute_result",
          "data": {
            "text/plain": [
              "['2021-09-08',\n",
              " '2020-04-07',\n",
              " '2020-04-07',\n",
              " '2020-10-13',\n",
              " '2021-04-27',\n",
              " '2020-06-02',\n",
              " '2020-04-07']"
            ]
          },
          "metadata": {},
          "execution_count": 177
        }
      ]
    },
    {
      "cell_type": "code",
      "source": [
        "mapBombUrl = []"
      ],
      "metadata": {
        "id": "brqgktoKPqdU"
      },
      "execution_count": 178,
      "outputs": []
    },
    {
      "cell_type": "code",
      "source": [
        "def getMapBombUrl():\n",
        "    active = []\n",
        "    for map in MapUrl:\n",
        "\n",
        "        src = getSrc(url,map)\n",
        "\n",
        "        finder = 'Bomb Sites:<\\/div>\\s<div class=\"infobox-cell-2\">(\\d)'\n",
        "        \n",
        "        for info in re.findall(finder,src):\n",
        "          active.append(info)\n",
        "                \n",
        "        time.sleep(3)\n",
        "\n",
        "    return active\n",
        "    "
      ],
      "metadata": {
        "id": "dQZKS0mbPqdU"
      },
      "execution_count": 179,
      "outputs": []
    },
    {
      "cell_type": "code",
      "source": [
        "mapBombUrl = getMapBombUrl()"
      ],
      "metadata": {
        "id": "eBPShfJMPqdU"
      },
      "execution_count": 180,
      "outputs": []
    },
    {
      "cell_type": "code",
      "source": [
        "mapBombUrl"
      ],
      "metadata": {
        "outputId": "4c3f2031-f0c5-4d27-c8ec-446478b7acc8",
        "colab": {
          "base_uri": "https://localhost:8080/"
        },
        "id": "4kloRQlOPqdU"
      },
      "execution_count": 181,
      "outputs": [
        {
          "output_type": "execute_result",
          "data": {
            "text/plain": [
              "['2', '2', '2', '2', '2', '2', '3']"
            ]
          },
          "metadata": {},
          "execution_count": 181
        }
      ]
    },
    {
      "cell_type": "code",
      "source": [
        "mapTeleportUrl = []"
      ],
      "metadata": {
        "id": "if2oNvSWQMOh"
      },
      "execution_count": 182,
      "outputs": []
    },
    {
      "cell_type": "code",
      "source": [
        "def getMapTeleportUrl():\n",
        "    active = []\n",
        "    for map in MapUrl:\n",
        "\n",
        "        src = getSrc(url,map)\n",
        "\n",
        "        finder = 'Teleporters:<\\/div>\\s<div class=\"infobox-cell-2\">(\\d)'\n",
        "        if map == 'Breeze':\n",
        "          active.append('0')\n",
        "        elif map == 'Icebox':\n",
        "          active.append('0')\n",
        "        elif map == 'Haven':\n",
        "          active.append('0')\n",
        "        for info in re.findall(finder,src):\n",
        "            active.append(info)\n",
        "                \n",
        "        time.sleep(3)\n",
        "\n",
        "    return active\n",
        "    "
      ],
      "metadata": {
        "id": "7vhBkZgZQMOi"
      },
      "execution_count": 183,
      "outputs": []
    },
    {
      "cell_type": "code",
      "source": [
        "mapTeleportUrl = getMapTeleportUrl()"
      ],
      "metadata": {
        "id": "3CQd4asWQMOi"
      },
      "execution_count": 184,
      "outputs": []
    },
    {
      "cell_type": "code",
      "source": [
        "mapTeleportUrl"
      ],
      "metadata": {
        "outputId": "4831e99a-e0ab-43ec-ea8b-358a5db053c4",
        "colab": {
          "base_uri": "https://localhost:8080/"
        },
        "id": "GYqPx60-QMOj"
      },
      "execution_count": 185,
      "outputs": [
        {
          "output_type": "execute_result",
          "data": {
            "text/plain": [
              "['0', '2', '0', '0', '0', '0', '0']"
            ]
          },
          "metadata": {},
          "execution_count": 185
        }
      ]
    },
    {
      "cell_type": "code",
      "source": [
        "mapTopDown = []"
      ],
      "metadata": {
        "id": "tomv-LtfcWjD"
      },
      "execution_count": 186,
      "outputs": []
    },
    {
      "cell_type": "code",
      "source": [
        "def getMapTopDownUrl():\n",
        "    active = []\n",
        "    for map in MapUrl:\n",
        "\n",
        "        src = getSrc(url,map)\n",
        "\n",
        "        finder = ' class=\"image\"><img alt=\"\" src=\"(.+.png)\"'\n",
        "        \n",
        "        for info in re.findall(finder,src):\n",
        "          active.append(info)\n",
        "                \n",
        "        time.sleep(3)\n",
        "\n",
        "    return active"
      ],
      "metadata": {
        "id": "YtjA7pTJcbpi"
      },
      "execution_count": 187,
      "outputs": []
    },
    {
      "cell_type": "code",
      "source": [
        "mapTopDown = getMapTopDownUrl()"
      ],
      "metadata": {
        "id": "iMDkpdI1cr9m"
      },
      "execution_count": 188,
      "outputs": []
    },
    {
      "cell_type": "code",
      "source": [
        "mapTopDown"
      ],
      "metadata": {
        "colab": {
          "base_uri": "https://localhost:8080/"
        },
        "id": "DTcUn7sbcykO",
        "outputId": "9024ff4e-0c2d-4a34-f880-b4f306b4ed32"
      },
      "execution_count": 189,
      "outputs": [
        {
          "output_type": "execute_result",
          "data": {
            "text/plain": [
              "['/commons/images/thumb/2/23/Fracture_Map.png/600px-Fracture_Map.png',\n",
              " '/commons/images/thumb/8/80/Bind_Map.png/600px-Bind_Map.png',\n",
              " '/commons/images/thumb/d/d4/Split_Map.png/600px-Split_Map.png',\n",
              " '/commons/images/thumb/e/ea/Icebox_Map.png/600px-Icebox_Map.png',\n",
              " '/commons/images/thumb/5/50/Breeze_Map.png/600px-Breeze_Map.png',\n",
              " '/commons/images/thumb/8/80/Ascent_Map.png/600px-Ascent_Map.png',\n",
              " '/commons/images/thumb/7/73/Haven_Map.png/600px-Haven_Map.png']"
            ]
          },
          "metadata": {},
          "execution_count": 189
        }
      ]
    },
    {
      "cell_type": "code",
      "source": [
        "newUrl = 'https://playvalorant.com/en-us/'"
      ],
      "metadata": {
        "id": "XfK8VGjsBk2d"
      },
      "execution_count": 190,
      "outputs": []
    },
    {
      "cell_type": "code",
      "source": [
        "def getDesUrl():\n",
        "    active = []\n",
        "    src = getSrc(newUrl, 'maps/')\n",
        "    \n",
        "    finder = 'MapsCarouselContent-module--description--1u7Vd\" data-testid=\"mapspage-carousel-item-description\">(.+)<\\/p><button'\n",
        "\n",
        "    for map in re.findall(finder,src):\n",
        "        if map not in active:\n",
        "            active.append(map)\n",
        "        time.sleep(3)\n",
        "    return active"
      ],
      "metadata": {
        "id": "PbiHIJJGCG1B"
      },
      "execution_count": 191,
      "outputs": []
    },
    {
      "cell_type": "code",
      "source": [
        "description = getDesUrl()"
      ],
      "metadata": {
        "id": "Ml9hR7njEN7S"
      },
      "execution_count": 192,
      "outputs": []
    },
    {
      "cell_type": "code",
      "source": [
        "description"
      ],
      "metadata": {
        "colab": {
          "base_uri": "https://localhost:8080/"
        },
        "id": "IKA9ROg3EV5s",
        "outputId": "646c9965-151a-4d01-aa1c-7c295a34c5f5"
      },
      "execution_count": 193,
      "outputs": [
        {
          "output_type": "execute_result",
          "data": {
            "text/plain": [
              "['A top secret research facility split apart by a failed radianite experiment. With defender options as divided as the map, the choice is yours: meet the attackers on their own turf or batten down the hatches to weather the assault.',\n",
              " 'Take in the sights of historic ruins or seaside caves on this tropical paradise. But bring some cover. You&#x27;ll need them for the wide open spaces and long range engagements. Watch your flanks and this will be a Breeze.',\n",
              " 'Your next battleground is a secret Kingdom excavation site overtaken by the arctic. The two plant sites protected by snow and metal require some horizontal finesse. Take advantage of the ziplines and theyâ\\x80\\x99ll never see you coming.',\n",
              " 'Two sites. No middle. Gotta pick left or right. Whatâ\\x80\\x99s it going to be then? Both offer direct paths for attackers and a pair of one-way teleporters make it easier to flank.',\n",
              " 'Beneath a forgotten monastery, a clamour emerges from rival Agents clashing to control three sites. Thereâ\\x80\\x99s more territory to control, but defenders can use the extra real estate for aggressive pushes.',\n",
              " 'If you want to go far, youâ\\x80\\x99ll have to go up. A pair of sites split by an elevated center allows for rapid movement using two rope ascenders. Each site is built with a looming tower vital for control. Remember to watch above before it all blows sky-high.',\n",
              " 'An open playground for small wars of position and attrition divide two sites on Ascent. Each site can be fortified by irreversible bomb doors; once theyâ\\x80\\x99re down, youâ\\x80\\x99ll have to destroy them or find another way. Yield as little territory as possible.']"
            ]
          },
          "metadata": {},
          "execution_count": 193
        }
      ]
    },
    {
      "cell_type": "code",
      "source": [
        "descriptionUrl =[]\n",
        "descriptionUrl.append(description[0])\n",
        "descriptionUrl.append(description[3])\n",
        "descriptionUrl.append(description[5])\n",
        "descriptionUrl.append(description[1])\n",
        "descriptionUrl.append(description[2])\n",
        "descriptionUrl.append(description[6])\n",
        "descriptionUrl.append(description[4])"
      ],
      "metadata": {
        "id": "pn7FKWeT3-CF"
      },
      "execution_count": 194,
      "outputs": []
    },
    {
      "cell_type": "code",
      "source": [
        "descriptionUrl"
      ],
      "metadata": {
        "colab": {
          "base_uri": "https://localhost:8080/"
        },
        "id": "5Vx79wTZ8K-x",
        "outputId": "50b8b411-3142-4312-dcc5-c509dea7f8dd"
      },
      "execution_count": 225,
      "outputs": [
        {
          "output_type": "execute_result",
          "data": {
            "text/plain": [
              "['A top secret research facility split apart by a failed radianite experiment. With defender options as divided as the map, the choice is yours: meet the attackers on their own turf or batten down the hatches to weather the assault.',\n",
              " 'Two sites. No middle. Gotta pick left or right. Whatâ\\x80\\x99s it going to be then? Both offer direct paths for attackers and a pair of one-way teleporters make it easier to flank.',\n",
              " 'If you want to go far, youâ\\x80\\x99ll have to go up. A pair of sites split by an elevated center allows for rapid movement using two rope ascenders. Each site is built with a looming tower vital for control. Remember to watch above before it all blows sky-high.',\n",
              " 'Take in the sights of historic ruins or seaside caves on this tropical paradise. But bring some cover. You&#x27;ll need them for the wide open spaces and long range engagements. Watch your flanks and this will be a Breeze.',\n",
              " 'Your next battleground is a secret Kingdom excavation site overtaken by the arctic. The two plant sites protected by snow and metal require some horizontal finesse. Take advantage of the ziplines and theyâ\\x80\\x99ll never see you coming.',\n",
              " 'An open playground for small wars of position and attrition divide two sites on Ascent. Each site can be fortified by irreversible bomb doors; once theyâ\\x80\\x99re down, youâ\\x80\\x99ll have to destroy them or find another way. Yield as little territory as possible.',\n",
              " 'Beneath a forgotten monastery, a clamour emerges from rival Agents clashing to control three sites. Thereâ\\x80\\x99s more territory to control, but defenders can use the extra real estate for aggressive pushes.']"
            ]
          },
          "metadata": {},
          "execution_count": 225
        }
      ]
    },
    {
      "cell_type": "code",
      "source": [
        "lastUrl = 'https://valorant.fandom.com/wiki/'"
      ],
      "metadata": {
        "id": "JjwZQ_WENj-t"
      },
      "execution_count": 196,
      "outputs": []
    },
    {
      "cell_type": "code",
      "source": [
        "def getFractureUrl():\n",
        "    active = []\n",
        "    \n",
        "\n",
        "    src = getSrc(lastUrl,'Fracture')\n",
        "\n",
        "    finder = 'Preview\\d.jpg\" data-src=\"(\\S+)\"'\n",
        "        \n",
        "    for info in re.findall(finder,src):\n",
        "      active.append(info)\n",
        "                \n",
        "      time.sleep(3)\n",
        "    active.append(mapTopDown[0])\n",
        "    return active"
      ],
      "metadata": {
        "id": "-aoNA2tiNx2M"
      },
      "execution_count": 197,
      "outputs": []
    },
    {
      "cell_type": "code",
      "source": [
        "mapFractureUrl = getFractureUrl()"
      ],
      "metadata": {
        "id": "KkHXh6GHVH6h"
      },
      "execution_count": 198,
      "outputs": []
    },
    {
      "cell_type": "code",
      "source": [
        "mapFractureUrl"
      ],
      "metadata": {
        "colab": {
          "base_uri": "https://localhost:8080/"
        },
        "id": "nMb36e5xVUHT",
        "outputId": "edf6e09d-1219-404a-df72-830c0fb0244c"
      },
      "execution_count": 199,
      "outputs": [
        {
          "output_type": "execute_result",
          "data": {
            "text/plain": [
              "['https://static.wikia.nocookie.net/valorant/images/7/78/FracturePreview1.jpg/revision/latest/scale-to-width-down/200?cb=20210901174013',\n",
              " 'https://static.wikia.nocookie.net/valorant/images/8/8c/FracturePreview2.jpg/revision/latest/scale-to-width-down/200?cb=20210901174015',\n",
              " 'https://static.wikia.nocookie.net/valorant/images/6/62/FracturePreview3.jpg/revision/latest/scale-to-width-down/200?cb=20210901174015',\n",
              " '/commons/images/thumb/2/23/Fracture_Map.png/600px-Fracture_Map.png']"
            ]
          },
          "metadata": {},
          "execution_count": 199
        }
      ]
    },
    {
      "cell_type": "code",
      "source": [
        "def getBindUrl():\n",
        "    active = []\n",
        "    \n",
        "\n",
        "    src = getSrc(lastUrl,'Bind')\n",
        "\n",
        "    finder = 'Bind_?\\w*.png\" data-src=\"(\\S+)\"'\n",
        "        \n",
        "    for info in re.findall(finder,src):\n",
        "      active.append(info)\n",
        "                \n",
        "    time.sleep(3)\n",
        "    active.append(mapTopDown[1])\n",
        "\n",
        "    return active"
      ],
      "metadata": {
        "id": "IBpxEN63TWgu"
      },
      "execution_count": 200,
      "outputs": []
    },
    {
      "cell_type": "code",
      "source": [
        "mapBindUrl = getBindUrl()"
      ],
      "metadata": {
        "id": "ga4iOxGUTkZD"
      },
      "execution_count": 201,
      "outputs": []
    },
    {
      "cell_type": "code",
      "source": [
        "mapBindUrl"
      ],
      "metadata": {
        "colab": {
          "base_uri": "https://localhost:8080/"
        },
        "id": "bf_xYD1OTkfp",
        "outputId": "f37552ad-e98c-4692-da5b-b385081606b3"
      },
      "execution_count": 202,
      "outputs": [
        {
          "output_type": "execute_result",
          "data": {
            "text/plain": [
              "['https://static.wikia.nocookie.net/valorant/images/4/4e/Bind.png/revision/latest/scale-to-width-down/185?cb=20200421144107',\n",
              " 'https://static.wikia.nocookie.net/valorant/images/f/ff/Bind_Market.png/revision/latest/scale-to-width-down/185?cb=20210619194555',\n",
              " '/commons/images/thumb/8/80/Bind_Map.png/600px-Bind_Map.png']"
            ]
          },
          "metadata": {},
          "execution_count": 202
        }
      ]
    },
    {
      "cell_type": "code",
      "source": [
        "def getSplitUrl():\n",
        "    active = []\n",
        "    \n",
        "\n",
        "    src = getSrc(lastUrl,'Split')\n",
        "\n",
        "    finder = '\\d\\d?[3|0]px; width:185px;\"><noscript><img style=\"\" src=\"(\\S+)\"'\n",
        "        \n",
        "    for info in re.findall(finder,src):\n",
        "      active.append(info)\n",
        "                \n",
        "    time.sleep(3)\n",
        "    active.append(mapTopDown[2])\n",
        "\n",
        "    return active"
      ],
      "metadata": {
        "id": "3cBWpN7-Z9L2"
      },
      "execution_count": 203,
      "outputs": []
    },
    {
      "cell_type": "code",
      "source": [
        "mapSplitUrl = getSplitUrl()"
      ],
      "metadata": {
        "id": "VqtZvc7KZ9L2"
      },
      "execution_count": 204,
      "outputs": []
    },
    {
      "cell_type": "code",
      "source": [
        "mapSplitUrl"
      ],
      "metadata": {
        "colab": {
          "base_uri": "https://localhost:8080/"
        },
        "id": "kAkAX7ioZ9L2",
        "outputId": "05783b88-7dca-4692-c577-af7c98ef9d6b"
      },
      "execution_count": 205,
      "outputs": [
        {
          "output_type": "execute_result",
          "data": {
            "text/plain": [
              "['https://static.wikia.nocookie.net/valorant/images/4/4d/Split_Old-mid_%28Closed_Beta%29.jpg/revision/latest/scale-to-width-down/185?cb=20200601232030',\n",
              " 'https://static.wikia.nocookie.net/valorant/images/4/4e/Split_New-mid_%28Patch_1.0%29.jpg/revision/latest/scale-to-width-down/185?cb=20200601232025',\n",
              " 'https://static.wikia.nocookie.net/valorant/images/6/69/Split_map.png/revision/latest/scale-to-width-down/185?cb=20200408124830',\n",
              " '/commons/images/thumb/d/d4/Split_Map.png/600px-Split_Map.png']"
            ]
          },
          "metadata": {},
          "execution_count": 205
        }
      ]
    },
    {
      "cell_type": "code",
      "source": [
        "def getIceboxUrl():\n",
        "    active = []\n",
        "\n",
        "    src = getSrc(lastUrl,'Icebox')\n",
        "\n",
        "    finder = 'data-image-key=\"Icebox_[roz]\\w+.png\" data-src=\"(\\S+)\"'\n",
        "        \n",
        "    for info in re.findall(finder,src):\n",
        "      active.append(info)\n",
        "                \n",
        "    time.sleep(3)\n",
        "    active.append(mapTopDown[3])\n",
        "\n",
        "    return active"
      ],
      "metadata": {
        "id": "65D7LF3DN7mR"
      },
      "execution_count": 206,
      "outputs": []
    },
    {
      "cell_type": "code",
      "source": [
        "mapIceboxUrl = getIceboxUrl()"
      ],
      "metadata": {
        "id": "bVkMtq_SSF7n"
      },
      "execution_count": 207,
      "outputs": []
    },
    {
      "cell_type": "code",
      "source": [
        "mapIceboxUrl"
      ],
      "metadata": {
        "id": "QQ5knw35TC_J",
        "colab": {
          "base_uri": "https://localhost:8080/"
        },
        "outputId": "f621e0dc-93c2-438d-e3b6-ff74ff732c94"
      },
      "execution_count": 208,
      "outputs": [
        {
          "output_type": "execute_result",
          "data": {
            "text/plain": [
              "['https://static.wikia.nocookie.net/valorant/images/c/c3/Icebox_overpass.png/revision/latest/scale-to-width-down/200?cb=20201006160517',\n",
              " 'https://static.wikia.nocookie.net/valorant/images/6/64/Icebox_ziplines.png/revision/latest/scale-to-width-down/200?cb=20201006160157',\n",
              " '/commons/images/thumb/e/ea/Icebox_Map.png/600px-Icebox_Map.png']"
            ]
          },
          "metadata": {},
          "execution_count": 208
        }
      ]
    },
    {
      "cell_type": "code",
      "source": [
        "def getBreezeUrl():\n",
        "    active = []\n",
        "    \n",
        "\n",
        "    src = getSrc(lastUrl,'Breeze')\n",
        "\n",
        "    finder = 'style=\"height:112px; width:200px;\"><noscript><img style=\"\" src=\"(\\S+)\"'\n",
        "        \n",
        "    for info in re.findall(finder,src):\n",
        "     active.append(info)\n",
        "                \n",
        "    time.sleep(3)\n",
        "    active.append(mapTopDown[4])\n",
        "\n",
        "    return active"
      ],
      "metadata": {
        "id": "AGpqnTSLYOOW"
      },
      "execution_count": 209,
      "outputs": []
    },
    {
      "cell_type": "code",
      "source": [
        "mapBreezeUrl = getBreezeUrl()"
      ],
      "metadata": {
        "id": "nNa8sHJrYSfW"
      },
      "execution_count": 210,
      "outputs": []
    },
    {
      "cell_type": "code",
      "source": [
        "mapBreezeUrl"
      ],
      "metadata": {
        "colab": {
          "base_uri": "https://localhost:8080/"
        },
        "id": "_nv6Yf4LYW1P",
        "outputId": "932a0909-9077-4b5a-cc33-5bd2334c74db"
      },
      "execution_count": 211,
      "outputs": [
        {
          "output_type": "execute_result",
          "data": {
            "text/plain": [
              "['https://static.wikia.nocookie.net/valorant/images/a/a1/Breeze-1.jpg/revision/latest/scale-to-width-down/200?cb=20210422091814',\n",
              " 'https://static.wikia.nocookie.net/valorant/images/6/6b/Breeze-2.jpg/revision/latest/scale-to-width-down/200?cb=20210422091821',\n",
              " 'https://static.wikia.nocookie.net/valorant/images/8/83/Breeze-3.png/revision/latest/scale-to-width-down/200?cb=20210422091942',\n",
              " 'https://static.wikia.nocookie.net/valorant/images/9/9b/Breeze-4.jpg/revision/latest/scale-to-width-down/200?cb=20210422171255',\n",
              " '/commons/images/thumb/5/50/Breeze_Map.png/600px-Breeze_Map.png']"
            ]
          },
          "metadata": {},
          "execution_count": 211
        }
      ]
    },
    {
      "cell_type": "code",
      "source": [
        "def getAscentUrl():\n",
        "    active = []\n",
        "\n",
        "    src = getSrc(lastUrl,'Ascent')\n",
        "\n",
        "    finder = '185px;\"><noscript><img style=\"\" src=\"(\\S+)\"'\n",
        "        \n",
        "    for info in re.findall(finder,src):\n",
        "      active.append(info)\n",
        "                \n",
        "    time.sleep(3)\n",
        "    active.append(mapTopDown[5])\n",
        "\n",
        "    return active"
      ],
      "metadata": {
        "id": "g6fNxwLC6eGP"
      },
      "execution_count": 212,
      "outputs": []
    },
    {
      "cell_type": "code",
      "source": [
        "mapAscentUrl = getAscentUrl()"
      ],
      "metadata": {
        "id": "yZWgdelc6eGP"
      },
      "execution_count": 213,
      "outputs": []
    },
    {
      "cell_type": "code",
      "source": [
        "mapAscentUrl"
      ],
      "metadata": {
        "colab": {
          "base_uri": "https://localhost:8080/"
        },
        "outputId": "9a22b184-b34b-4834-9823-a45e97185469",
        "id": "NF1CPHaK6eGP"
      },
      "execution_count": 214,
      "outputs": [
        {
          "output_type": "execute_result",
          "data": {
            "text/plain": [
              "['https://static.wikia.nocookie.net/valorant/images/3/32/Valorant-Ascent.jpg/revision/latest/scale-to-width-down/185?cb=20200510031018',\n",
              " 'https://static.wikia.nocookie.net/valorant/images/f/fe/Gameplay_4.jpg/revision/latest/scale-to-width-down/185?cb=20200409115232',\n",
              " 'https://static.wikia.nocookie.net/valorant/images/6/61/Ascent_minimap_development.png/revision/latest/scale-to-width-down/185?cb=20200412002445',\n",
              " '/commons/images/thumb/8/80/Ascent_Map.png/600px-Ascent_Map.png']"
            ]
          },
          "metadata": {},
          "execution_count": 214
        }
      ]
    },
    {
      "cell_type": "code",
      "source": [
        "def getHavenUrl():\n",
        "    active = []\n",
        "\n",
        "    src = getSrc(lastUrl,'Haven')\n",
        "\n",
        "    finder = '185px;\"><noscript><img style=\"\" src=\"(\\S+)\"'\n",
        "        \n",
        "    for info in re.findall(finder,src):\n",
        "      active.append(info)\n",
        "                \n",
        "    time.sleep(3)\n",
        "    active.append(mapTopDown[6])\n",
        "    return active"
      ],
      "metadata": {
        "id": "TURdIsMMqS9Z"
      },
      "execution_count": 215,
      "outputs": []
    },
    {
      "cell_type": "code",
      "source": [
        "mapHavenUrl = getHavenUrl()"
      ],
      "metadata": {
        "id": "BI06ZthkqS9Z"
      },
      "execution_count": 216,
      "outputs": []
    },
    {
      "cell_type": "code",
      "source": [
        "mapHavenUrl"
      ],
      "metadata": {
        "colab": {
          "base_uri": "https://localhost:8080/"
        },
        "id": "4CCFak0OqS9Z",
        "outputId": "ac7a2fe3-4768-4e3c-fe4a-a3e53fab6f8a"
      },
      "execution_count": 217,
      "outputs": [
        {
          "output_type": "execute_result",
          "data": {
            "text/plain": [
              "['https://static.wikia.nocookie.net/valorant/images/5/5c/Gameplay_1.jpeg/revision/latest/scale-to-width-down/185?cb=20200303004227',\n",
              " 'https://static.wikia.nocookie.net/valorant/images/5/59/Haven.png/revision/latest/scale-to-width-down/185?cb=20200421143945',\n",
              " '/commons/images/thumb/7/73/Haven_Map.png/600px-Haven_Map.png']"
            ]
          },
          "metadata": {},
          "execution_count": 217
        }
      ]
    },
    {
      "cell_type": "code",
      "source": [
        "mapImgUrl = []\n",
        "mapImgUrl.append(mapFractureUrl)\n",
        "mapImgUrl.append(mapBindUrl)\n",
        "mapImgUrl.append(mapSplitUrl)\n",
        "mapImgUrl.append(mapIceboxUrl)\n",
        "mapImgUrl.append(mapBreezeUrl)\n",
        "mapImgUrl.append(mapAscentUrl)\n",
        "mapImgUrl.append(mapHavenUrl)"
      ],
      "metadata": {
        "id": "ty8k2AlkwgvD"
      },
      "execution_count": 218,
      "outputs": []
    },
    {
      "cell_type": "code",
      "source": [
        "mapImgUrl"
      ],
      "metadata": {
        "colab": {
          "base_uri": "https://localhost:8080/"
        },
        "id": "xPZbPMHS3zwF",
        "outputId": "bb64659e-0a52-4285-9a9c-7cafde56f57b"
      },
      "execution_count": 219,
      "outputs": [
        {
          "output_type": "execute_result",
          "data": {
            "text/plain": [
              "[['https://static.wikia.nocookie.net/valorant/images/7/78/FracturePreview1.jpg/revision/latest/scale-to-width-down/200?cb=20210901174013',\n",
              "  'https://static.wikia.nocookie.net/valorant/images/8/8c/FracturePreview2.jpg/revision/latest/scale-to-width-down/200?cb=20210901174015',\n",
              "  'https://static.wikia.nocookie.net/valorant/images/6/62/FracturePreview3.jpg/revision/latest/scale-to-width-down/200?cb=20210901174015',\n",
              "  '/commons/images/thumb/2/23/Fracture_Map.png/600px-Fracture_Map.png'],\n",
              " ['https://static.wikia.nocookie.net/valorant/images/4/4e/Bind.png/revision/latest/scale-to-width-down/185?cb=20200421144107',\n",
              "  'https://static.wikia.nocookie.net/valorant/images/f/ff/Bind_Market.png/revision/latest/scale-to-width-down/185?cb=20210619194555',\n",
              "  '/commons/images/thumb/8/80/Bind_Map.png/600px-Bind_Map.png'],\n",
              " ['https://static.wikia.nocookie.net/valorant/images/4/4d/Split_Old-mid_%28Closed_Beta%29.jpg/revision/latest/scale-to-width-down/185?cb=20200601232030',\n",
              "  'https://static.wikia.nocookie.net/valorant/images/4/4e/Split_New-mid_%28Patch_1.0%29.jpg/revision/latest/scale-to-width-down/185?cb=20200601232025',\n",
              "  'https://static.wikia.nocookie.net/valorant/images/6/69/Split_map.png/revision/latest/scale-to-width-down/185?cb=20200408124830',\n",
              "  '/commons/images/thumb/d/d4/Split_Map.png/600px-Split_Map.png'],\n",
              " ['https://static.wikia.nocookie.net/valorant/images/a/a1/Breeze-1.jpg/revision/latest/scale-to-width-down/200?cb=20210422091814',\n",
              "  'https://static.wikia.nocookie.net/valorant/images/6/6b/Breeze-2.jpg/revision/latest/scale-to-width-down/200?cb=20210422091821',\n",
              "  'https://static.wikia.nocookie.net/valorant/images/8/83/Breeze-3.png/revision/latest/scale-to-width-down/200?cb=20210422091942',\n",
              "  'https://static.wikia.nocookie.net/valorant/images/9/9b/Breeze-4.jpg/revision/latest/scale-to-width-down/200?cb=20210422171255',\n",
              "  '/commons/images/thumb/5/50/Breeze_Map.png/600px-Breeze_Map.png'],\n",
              " ['https://static.wikia.nocookie.net/valorant/images/c/c3/Icebox_overpass.png/revision/latest/scale-to-width-down/200?cb=20201006160517',\n",
              "  'https://static.wikia.nocookie.net/valorant/images/6/64/Icebox_ziplines.png/revision/latest/scale-to-width-down/200?cb=20201006160157',\n",
              "  '/commons/images/thumb/e/ea/Icebox_Map.png/600px-Icebox_Map.png'],\n",
              " ['https://static.wikia.nocookie.net/valorant/images/3/32/Valorant-Ascent.jpg/revision/latest/scale-to-width-down/185?cb=20200510031018',\n",
              "  'https://static.wikia.nocookie.net/valorant/images/f/fe/Gameplay_4.jpg/revision/latest/scale-to-width-down/185?cb=20200409115232',\n",
              "  'https://static.wikia.nocookie.net/valorant/images/6/61/Ascent_minimap_development.png/revision/latest/scale-to-width-down/185?cb=20200412002445',\n",
              "  '/commons/images/thumb/8/80/Ascent_Map.png/600px-Ascent_Map.png'],\n",
              " ['https://static.wikia.nocookie.net/valorant/images/5/5c/Gameplay_1.jpeg/revision/latest/scale-to-width-down/185?cb=20200303004227',\n",
              "  'https://static.wikia.nocookie.net/valorant/images/5/59/Haven.png/revision/latest/scale-to-width-down/185?cb=20200421143945',\n",
              "  '/commons/images/thumb/7/73/Haven_Map.png/600px-Haven_Map.png']]"
            ]
          },
          "metadata": {},
          "execution_count": 219
        }
      ]
    },
    {
      "cell_type": "code",
      "source": [
        "mapInfo =[]"
      ],
      "metadata": {
        "id": "QcxHvNZhf27r"
      },
      "execution_count": 232,
      "outputs": []
    },
    {
      "cell_type": "code",
      "source": [
        "t = 0\n",
        "for map in MapUrl:\n",
        "  mapInfo.append(\n",
        "    {\n",
        "    'mapName':str(map),\n",
        "    'description':descriptionUrl[t],\n",
        "    'country':mapCountryUrl[t],\n",
        "    'releaseDate':mapDateUrl[t],\n",
        "    'bombSites':mapBombUrl[t],\n",
        "    'teleporters':mapTeleportUrl[t],\n",
        "    'imageUrl':mapImgUrl[t]\n",
        "    }\n",
        "  )\n",
        "  t = t + 1\n",
        "  "
      ],
      "metadata": {
        "id": "Bq99CnYViEPQ"
      },
      "execution_count": 233,
      "outputs": []
    },
    {
      "cell_type": "code",
      "source": [
        "mapInfo"
      ],
      "metadata": {
        "colab": {
          "base_uri": "https://localhost:8080/"
        },
        "id": "g_Uzy9IgpsXc",
        "outputId": "de8a31f5-cf6e-4f17-e38f-2c103c75e70f"
      },
      "execution_count": 234,
      "outputs": [
        {
          "output_type": "execute_result",
          "data": {
            "text/plain": [
              "[{'bombSites': '2',\n",
              "  'country': 'United_States',\n",
              "  'description': 'A top secret research facility split apart by a failed radianite experiment. With defender options as divided as the map, the choice is yours: meet the attackers on their own turf or batten down the hatches to weather the assault.',\n",
              "  'imageUrl': ['https://static.wikia.nocookie.net/valorant/images/7/78/FracturePreview1.jpg/revision/latest/scale-to-width-down/200?cb=20210901174013',\n",
              "   'https://static.wikia.nocookie.net/valorant/images/8/8c/FracturePreview2.jpg/revision/latest/scale-to-width-down/200?cb=20210901174015',\n",
              "   'https://static.wikia.nocookie.net/valorant/images/6/62/FracturePreview3.jpg/revision/latest/scale-to-width-down/200?cb=20210901174015',\n",
              "   '/commons/images/thumb/2/23/Fracture_Map.png/600px-Fracture_Map.png'],\n",
              "  'mapName': 'Fracture',\n",
              "  'releaseDate': '2021-09-08',\n",
              "  'teleporters': '0'},\n",
              " {'bombSites': '2',\n",
              "  'country': 'Morocco',\n",
              "  'description': 'Two sites. No middle. Gotta pick left or right. Whatâ\\x80\\x99s it going to be then? Both offer direct paths for attackers and a pair of one-way teleporters make it easier to flank.',\n",
              "  'imageUrl': ['https://static.wikia.nocookie.net/valorant/images/4/4e/Bind.png/revision/latest/scale-to-width-down/185?cb=20200421144107',\n",
              "   'https://static.wikia.nocookie.net/valorant/images/f/ff/Bind_Market.png/revision/latest/scale-to-width-down/185?cb=20210619194555',\n",
              "   '/commons/images/thumb/8/80/Bind_Map.png/600px-Bind_Map.png'],\n",
              "  'mapName': 'Bind',\n",
              "  'releaseDate': '2020-04-07',\n",
              "  'teleporters': '2'},\n",
              " {'bombSites': '2',\n",
              "  'country': 'Japan',\n",
              "  'description': 'If you want to go far, youâ\\x80\\x99ll have to go up. A pair of sites split by an elevated center allows for rapid movement using two rope ascenders. Each site is built with a looming tower vital for control. Remember to watch above before it all blows sky-high.',\n",
              "  'imageUrl': ['https://static.wikia.nocookie.net/valorant/images/4/4d/Split_Old-mid_%28Closed_Beta%29.jpg/revision/latest/scale-to-width-down/185?cb=20200601232030',\n",
              "   'https://static.wikia.nocookie.net/valorant/images/4/4e/Split_New-mid_%28Patch_1.0%29.jpg/revision/latest/scale-to-width-down/185?cb=20200601232025',\n",
              "   'https://static.wikia.nocookie.net/valorant/images/6/69/Split_map.png/revision/latest/scale-to-width-down/185?cb=20200408124830',\n",
              "   '/commons/images/thumb/d/d4/Split_Map.png/600px-Split_Map.png'],\n",
              "  'mapName': 'Split',\n",
              "  'releaseDate': '2020-04-07',\n",
              "  'teleporters': '0'},\n",
              " {'bombSites': '2',\n",
              "  'country': 'Russia',\n",
              "  'description': 'Take in the sights of historic ruins or seaside caves on this tropical paradise. But bring some cover. You&#x27;ll need them for the wide open spaces and long range engagements. Watch your flanks and this will be a Breeze.',\n",
              "  'imageUrl': ['https://static.wikia.nocookie.net/valorant/images/a/a1/Breeze-1.jpg/revision/latest/scale-to-width-down/200?cb=20210422091814',\n",
              "   'https://static.wikia.nocookie.net/valorant/images/6/6b/Breeze-2.jpg/revision/latest/scale-to-width-down/200?cb=20210422091821',\n",
              "   'https://static.wikia.nocookie.net/valorant/images/8/83/Breeze-3.png/revision/latest/scale-to-width-down/200?cb=20210422091942',\n",
              "   'https://static.wikia.nocookie.net/valorant/images/9/9b/Breeze-4.jpg/revision/latest/scale-to-width-down/200?cb=20210422171255',\n",
              "   '/commons/images/thumb/5/50/Breeze_Map.png/600px-Breeze_Map.png'],\n",
              "  'mapName': 'Icebox',\n",
              "  'releaseDate': '2020-10-13',\n",
              "  'teleporters': '0'},\n",
              " {'bombSites': '2',\n",
              "  'country': 'None',\n",
              "  'description': 'Your next battleground is a secret Kingdom excavation site overtaken by the arctic. The two plant sites protected by snow and metal require some horizontal finesse. Take advantage of the ziplines and theyâ\\x80\\x99ll never see you coming.',\n",
              "  'imageUrl': ['https://static.wikia.nocookie.net/valorant/images/c/c3/Icebox_overpass.png/revision/latest/scale-to-width-down/200?cb=20201006160517',\n",
              "   'https://static.wikia.nocookie.net/valorant/images/6/64/Icebox_ziplines.png/revision/latest/scale-to-width-down/200?cb=20201006160157',\n",
              "   '/commons/images/thumb/e/ea/Icebox_Map.png/600px-Icebox_Map.png'],\n",
              "  'mapName': 'Breeze',\n",
              "  'releaseDate': '2021-04-27',\n",
              "  'teleporters': '0'},\n",
              " {'bombSites': '2',\n",
              "  'country': 'Italy',\n",
              "  'description': 'An open playground for small wars of position and attrition divide two sites on Ascent. Each site can be fortified by irreversible bomb doors; once theyâ\\x80\\x99re down, youâ\\x80\\x99ll have to destroy them or find another way. Yield as little territory as possible.',\n",
              "  'imageUrl': ['https://static.wikia.nocookie.net/valorant/images/3/32/Valorant-Ascent.jpg/revision/latest/scale-to-width-down/185?cb=20200510031018',\n",
              "   'https://static.wikia.nocookie.net/valorant/images/f/fe/Gameplay_4.jpg/revision/latest/scale-to-width-down/185?cb=20200409115232',\n",
              "   'https://static.wikia.nocookie.net/valorant/images/6/61/Ascent_minimap_development.png/revision/latest/scale-to-width-down/185?cb=20200412002445',\n",
              "   '/commons/images/thumb/8/80/Ascent_Map.png/600px-Ascent_Map.png'],\n",
              "  'mapName': 'Ascent',\n",
              "  'releaseDate': '2020-06-02',\n",
              "  'teleporters': '0'},\n",
              " {'bombSites': '3',\n",
              "  'country': 'Bhutan',\n",
              "  'description': 'Beneath a forgotten monastery, a clamour emerges from rival Agents clashing to control three sites. Thereâ\\x80\\x99s more territory to control, but defenders can use the extra real estate for aggressive pushes.',\n",
              "  'imageUrl': ['https://static.wikia.nocookie.net/valorant/images/5/5c/Gameplay_1.jpeg/revision/latest/scale-to-width-down/185?cb=20200303004227',\n",
              "   'https://static.wikia.nocookie.net/valorant/images/5/59/Haven.png/revision/latest/scale-to-width-down/185?cb=20200421143945',\n",
              "   '/commons/images/thumb/7/73/Haven_Map.png/600px-Haven_Map.png'],\n",
              "  'mapName': 'Haven',\n",
              "  'releaseDate': '2020-04-07',\n",
              "  'teleporters': '0'}]"
            ]
          },
          "metadata": {},
          "execution_count": 234
        }
      ]
    },
    {
      "cell_type": "code",
      "source": [
        "import json\n",
        "from google.colab import files"
      ],
      "metadata": {
        "id": "7DqJYqWS-rPn"
      },
      "execution_count": 223,
      "outputs": []
    },
    {
      "cell_type": "code",
      "source": [
        "Map = json.dumps(mapInfo, allow_nan = True, indent = 5)\n",
        "with open('map.json', 'w') as f:\n",
        "  f.write(str(Map))"
      ],
      "metadata": {
        "id": "jUM6Rn0P-ziq"
      },
      "execution_count": 235,
      "outputs": []
    },
    {
      "cell_type": "code",
      "source": [
        "files.download('map.json')"
      ],
      "metadata": {
        "colab": {
          "base_uri": "https://localhost:8080/",
          "height": 17
        },
        "id": "zYY-SrdBDjYW",
        "outputId": "f83d3555-3e2f-4cc9-d7dc-5e210e7a2a7c"
      },
      "execution_count": 237,
      "outputs": [
        {
          "output_type": "display_data",
          "data": {
            "text/plain": [
              "<IPython.core.display.Javascript object>"
            ],
            "application/javascript": [
              "\n",
              "    async function download(id, filename, size) {\n",
              "      if (!google.colab.kernel.accessAllowed) {\n",
              "        return;\n",
              "      }\n",
              "      const div = document.createElement('div');\n",
              "      const label = document.createElement('label');\n",
              "      label.textContent = `Downloading \"${filename}\": `;\n",
              "      div.appendChild(label);\n",
              "      const progress = document.createElement('progress');\n",
              "      progress.max = size;\n",
              "      div.appendChild(progress);\n",
              "      document.body.appendChild(div);\n",
              "\n",
              "      const buffers = [];\n",
              "      let downloaded = 0;\n",
              "\n",
              "      const channel = await google.colab.kernel.comms.open(id);\n",
              "      // Send a message to notify the kernel that we're ready.\n",
              "      channel.send({})\n",
              "\n",
              "      for await (const message of channel.messages) {\n",
              "        // Send a message to notify the kernel that we're ready.\n",
              "        channel.send({})\n",
              "        if (message.buffers) {\n",
              "          for (const buffer of message.buffers) {\n",
              "            buffers.push(buffer);\n",
              "            downloaded += buffer.byteLength;\n",
              "            progress.value = downloaded;\n",
              "          }\n",
              "        }\n",
              "      }\n",
              "      const blob = new Blob(buffers, {type: 'application/binary'});\n",
              "      const a = document.createElement('a');\n",
              "      a.href = window.URL.createObjectURL(blob);\n",
              "      a.download = filename;\n",
              "      div.appendChild(a);\n",
              "      a.click();\n",
              "      div.remove();\n",
              "    }\n",
              "  "
            ]
          },
          "metadata": {}
        },
        {
          "output_type": "display_data",
          "data": {
            "text/plain": [
              "<IPython.core.display.Javascript object>"
            ],
            "application/javascript": [
              "download(\"download_545ceb69-4fee-473b-9365-cbbe2674724c\", \"map.json\", 6736)"
            ]
          },
          "metadata": {}
        }
      ]
    },
    {
      "cell_type": "code",
      "source": [
        "print(Map)"
      ],
      "metadata": {
        "colab": {
          "base_uri": "https://localhost:8080/"
        },
        "id": "lw95zMQb_C7k",
        "outputId": "20592ef9-946f-4b55-87b1-2674a45a5db6"
      },
      "execution_count": 236,
      "outputs": [
        {
          "output_type": "stream",
          "name": "stdout",
          "text": [
            "[\n",
            "     {\n",
            "          \"mapName\": \"Fracture\",\n",
            "          \"description\": \"A top secret research facility split apart by a failed radianite experiment. With defender options as divided as the map, the choice is yours: meet the attackers on their own turf or batten down the hatches to weather the assault.\",\n",
            "          \"country\": \"United_States\",\n",
            "          \"releaseDate\": \"2021-09-08\",\n",
            "          \"bombSites\": \"2\",\n",
            "          \"teleporters\": \"0\",\n",
            "          \"imageUrl\": [\n",
            "               \"https://static.wikia.nocookie.net/valorant/images/7/78/FracturePreview1.jpg/revision/latest/scale-to-width-down/200?cb=20210901174013\",\n",
            "               \"https://static.wikia.nocookie.net/valorant/images/8/8c/FracturePreview2.jpg/revision/latest/scale-to-width-down/200?cb=20210901174015\",\n",
            "               \"https://static.wikia.nocookie.net/valorant/images/6/62/FracturePreview3.jpg/revision/latest/scale-to-width-down/200?cb=20210901174015\",\n",
            "               \"/commons/images/thumb/2/23/Fracture_Map.png/600px-Fracture_Map.png\"\n",
            "          ]\n",
            "     },\n",
            "     {\n",
            "          \"mapName\": \"Bind\",\n",
            "          \"description\": \"Two sites. No middle. Gotta pick left or right. What\\u00e2\\u0080\\u0099s it going to be then? Both offer direct paths for attackers and a pair of one-way teleporters make it easier to flank.\",\n",
            "          \"country\": \"Morocco\",\n",
            "          \"releaseDate\": \"2020-04-07\",\n",
            "          \"bombSites\": \"2\",\n",
            "          \"teleporters\": \"2\",\n",
            "          \"imageUrl\": [\n",
            "               \"https://static.wikia.nocookie.net/valorant/images/4/4e/Bind.png/revision/latest/scale-to-width-down/185?cb=20200421144107\",\n",
            "               \"https://static.wikia.nocookie.net/valorant/images/f/ff/Bind_Market.png/revision/latest/scale-to-width-down/185?cb=20210619194555\",\n",
            "               \"/commons/images/thumb/8/80/Bind_Map.png/600px-Bind_Map.png\"\n",
            "          ]\n",
            "     },\n",
            "     {\n",
            "          \"mapName\": \"Split\",\n",
            "          \"description\": \"If you want to go far, you\\u00e2\\u0080\\u0099ll have to go up. A pair of sites split by an elevated center allows for rapid movement using two rope ascenders. Each site is built with a looming tower vital for control. Remember to watch above before it all blows sky-high.\",\n",
            "          \"country\": \"Japan\",\n",
            "          \"releaseDate\": \"2020-04-07\",\n",
            "          \"bombSites\": \"2\",\n",
            "          \"teleporters\": \"0\",\n",
            "          \"imageUrl\": [\n",
            "               \"https://static.wikia.nocookie.net/valorant/images/4/4d/Split_Old-mid_%28Closed_Beta%29.jpg/revision/latest/scale-to-width-down/185?cb=20200601232030\",\n",
            "               \"https://static.wikia.nocookie.net/valorant/images/4/4e/Split_New-mid_%28Patch_1.0%29.jpg/revision/latest/scale-to-width-down/185?cb=20200601232025\",\n",
            "               \"https://static.wikia.nocookie.net/valorant/images/6/69/Split_map.png/revision/latest/scale-to-width-down/185?cb=20200408124830\",\n",
            "               \"/commons/images/thumb/d/d4/Split_Map.png/600px-Split_Map.png\"\n",
            "          ]\n",
            "     },\n",
            "     {\n",
            "          \"mapName\": \"Icebox\",\n",
            "          \"description\": \"Take in the sights of historic ruins or seaside caves on this tropical paradise. But bring some cover. You&#x27;ll need them for the wide open spaces and long range engagements. Watch your flanks and this will be a Breeze.\",\n",
            "          \"country\": \"Russia\",\n",
            "          \"releaseDate\": \"2020-10-13\",\n",
            "          \"bombSites\": \"2\",\n",
            "          \"teleporters\": \"0\",\n",
            "          \"imageUrl\": [\n",
            "               \"https://static.wikia.nocookie.net/valorant/images/a/a1/Breeze-1.jpg/revision/latest/scale-to-width-down/200?cb=20210422091814\",\n",
            "               \"https://static.wikia.nocookie.net/valorant/images/6/6b/Breeze-2.jpg/revision/latest/scale-to-width-down/200?cb=20210422091821\",\n",
            "               \"https://static.wikia.nocookie.net/valorant/images/8/83/Breeze-3.png/revision/latest/scale-to-width-down/200?cb=20210422091942\",\n",
            "               \"https://static.wikia.nocookie.net/valorant/images/9/9b/Breeze-4.jpg/revision/latest/scale-to-width-down/200?cb=20210422171255\",\n",
            "               \"/commons/images/thumb/5/50/Breeze_Map.png/600px-Breeze_Map.png\"\n",
            "          ]\n",
            "     },\n",
            "     {\n",
            "          \"mapName\": \"Breeze\",\n",
            "          \"description\": \"Your next battleground is a secret Kingdom excavation site overtaken by the arctic. The two plant sites protected by snow and metal require some horizontal finesse. Take advantage of the ziplines and they\\u00e2\\u0080\\u0099ll never see you coming.\",\n",
            "          \"country\": \"None\",\n",
            "          \"releaseDate\": \"2021-04-27\",\n",
            "          \"bombSites\": \"2\",\n",
            "          \"teleporters\": \"0\",\n",
            "          \"imageUrl\": [\n",
            "               \"https://static.wikia.nocookie.net/valorant/images/c/c3/Icebox_overpass.png/revision/latest/scale-to-width-down/200?cb=20201006160517\",\n",
            "               \"https://static.wikia.nocookie.net/valorant/images/6/64/Icebox_ziplines.png/revision/latest/scale-to-width-down/200?cb=20201006160157\",\n",
            "               \"/commons/images/thumb/e/ea/Icebox_Map.png/600px-Icebox_Map.png\"\n",
            "          ]\n",
            "     },\n",
            "     {\n",
            "          \"mapName\": \"Ascent\",\n",
            "          \"description\": \"An open playground for small wars of position and attrition divide two sites on Ascent. Each site can be fortified by irreversible bomb doors; once they\\u00e2\\u0080\\u0099re down, you\\u00e2\\u0080\\u0099ll have to destroy them or find another way. Yield as little territory as possible.\",\n",
            "          \"country\": \"Italy\",\n",
            "          \"releaseDate\": \"2020-06-02\",\n",
            "          \"bombSites\": \"2\",\n",
            "          \"teleporters\": \"0\",\n",
            "          \"imageUrl\": [\n",
            "               \"https://static.wikia.nocookie.net/valorant/images/3/32/Valorant-Ascent.jpg/revision/latest/scale-to-width-down/185?cb=20200510031018\",\n",
            "               \"https://static.wikia.nocookie.net/valorant/images/f/fe/Gameplay_4.jpg/revision/latest/scale-to-width-down/185?cb=20200409115232\",\n",
            "               \"https://static.wikia.nocookie.net/valorant/images/6/61/Ascent_minimap_development.png/revision/latest/scale-to-width-down/185?cb=20200412002445\",\n",
            "               \"/commons/images/thumb/8/80/Ascent_Map.png/600px-Ascent_Map.png\"\n",
            "          ]\n",
            "     },\n",
            "     {\n",
            "          \"mapName\": \"Haven\",\n",
            "          \"description\": \"Beneath a forgotten monastery, a clamour emerges from rival Agents clashing to control three sites. There\\u00e2\\u0080\\u0099s more territory to control, but defenders can use the extra real estate for aggressive pushes.\",\n",
            "          \"country\": \"Bhutan\",\n",
            "          \"releaseDate\": \"2020-04-07\",\n",
            "          \"bombSites\": \"3\",\n",
            "          \"teleporters\": \"0\",\n",
            "          \"imageUrl\": [\n",
            "               \"https://static.wikia.nocookie.net/valorant/images/5/5c/Gameplay_1.jpeg/revision/latest/scale-to-width-down/185?cb=20200303004227\",\n",
            "               \"https://static.wikia.nocookie.net/valorant/images/5/59/Haven.png/revision/latest/scale-to-width-down/185?cb=20200421143945\",\n",
            "               \"/commons/images/thumb/7/73/Haven_Map.png/600px-Haven_Map.png\"\n",
            "          ]\n",
            "     }\n",
            "]\n"
          ]
        }
      ]
    }
  ],
  "metadata": {
    "colab": {
      "collapsed_sections": [],
      "name": "Toc",
      "provenance": []
    },
    "kernelspec": {
      "display_name": "Python 3",
      "name": "python3"
    }
  },
  "nbformat": 4,
  "nbformat_minor": 0
}