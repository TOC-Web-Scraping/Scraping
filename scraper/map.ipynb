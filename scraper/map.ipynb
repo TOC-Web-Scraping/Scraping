{
  "cells": [
    {
      "cell_type": "code",
      "source": [
        "import requests\n",
        "import re\n",
        "import time"
      ],
      "metadata": {
        "id": "PQ_cKRQUhtxp"
      },
      "execution_count": 1,
      "outputs": []
    },
    {
      "cell_type": "code",
      "source": [
        "url = \"https://liquipedia.net/valorant/\"\n",
        "MapUrl=[]"
      ],
      "metadata": {
        "id": "zn-jtQ8ThxVC"
      },
      "execution_count": 2,
      "outputs": []
    },
    {
      "cell_type": "code",
      "source": [
        "def getSrc(url,id):\n",
        "    r = requests.get(url+id)\n",
        "    return r.text"
      ],
      "metadata": {
        "id": "eVUgrzC7iAgK"
      },
      "execution_count": 3,
      "outputs": []
    },
    {
      "cell_type": "code",
      "source": [
        "def getMapUrl():\n",
        "    active = []\n",
        "    src = getSrc(url, 'Portal:Maps')\n",
        "    \n",
        "    finder = '(\\w+) Map Banner'\n",
        "\n",
        "    for map in re.findall(finder,src):\n",
        "        if map not in active:\n",
        "            active.append(map)\n",
        "    return active"
      ],
      "metadata": {
        "id": "z9IX49lHitmQ"
      },
      "execution_count": 4,
      "outputs": []
    },
    {
      "cell_type": "code",
      "source": [
        "MapUrl = getMapUrl()"
      ],
      "metadata": {
        "id": "gd2q4l0LjDwE"
      },
      "execution_count": 5,
      "outputs": []
    },
    {
      "cell_type": "code",
      "source": [
        "MapUrl"
      ],
      "metadata": {
        "colab": {
          "base_uri": "https://localhost:8080/"
        },
        "id": "GzCHraamkSa9",
        "outputId": "2f8d43e0-ed43-4d64-ea61-ce05fc99648f"
      },
      "execution_count": 6,
      "outputs": [
        {
          "output_type": "execute_result",
          "data": {
            "text/plain": [
              "['Fracture', 'Bind', 'Split', 'Icebox', 'Breeze', 'Ascent', 'Haven']"
            ]
          },
          "metadata": {},
          "execution_count": 6
        }
      ]
    },
    {
      "cell_type": "code",
      "source": [
        "mapCountryUrl = []"
      ],
      "metadata": {
        "id": "HaUgvr2b2cXG"
      },
      "execution_count": 7,
      "outputs": []
    },
    {
      "cell_type": "code",
      "source": [
        "def getMapCountryUrl():\n",
        "    active = []\n",
        "    for map in MapUrl:\n",
        "\n",
        "        src = getSrc(url,map)\n",
        "\n",
        "        finder = '<\\/div>\\s<div class=\"infobox-cell-2\"><span class=\"flag\"><a href=\"\\/valorant\\/Category:(\\w+)'\n",
        "        if map == 'Breeze':\n",
        "          active.append('None')\n",
        "        for info in re.findall(finder,src):\n",
        "          active.append(info)\n",
        "                \n",
        "        time.sleep(3)\n",
        "\n",
        "    return active\n",
        "    "
      ],
      "metadata": {
        "id": "kW21f4DC2w63"
      },
      "execution_count": 8,
      "outputs": []
    },
    {
      "cell_type": "code",
      "source": [
        "mapCountryUrl = getMapCountryUrl()"
      ],
      "metadata": {
        "id": "UBZTpddM8ocE"
      },
      "execution_count": 9,
      "outputs": []
    },
    {
      "cell_type": "code",
      "source": [
        "mapCountryUrl"
      ],
      "metadata": {
        "colab": {
          "base_uri": "https://localhost:8080/"
        },
        "id": "5RYUalQi9QZu",
        "outputId": "36084e3e-6967-4d65-bdcd-0eee9111b439"
      },
      "execution_count": 10,
      "outputs": [
        {
          "output_type": "execute_result",
          "data": {
            "text/plain": [
              "['United_States', 'Morocco', 'Japan', 'Russia', 'None', 'Italy', 'Bhutan']"
            ]
          },
          "metadata": {},
          "execution_count": 10
        }
      ]
    },
    {
      "cell_type": "code",
      "source": [
        "mapDateUrl = []"
      ],
      "metadata": {
        "id": "QnScdQrXNebK"
      },
      "execution_count": 11,
      "outputs": []
    },
    {
      "cell_type": "code",
      "source": [
        "def getMapDateUrl():\n",
        "    active = []\n",
        "    for map in MapUrl:\n",
        "\n",
        "        src = getSrc(url,map)\n",
        "\n",
        "        finder = 'Release Date:<\\/div>\\s<div class=\"infobox-cell-2\">(\\d+-\\d+-\\d+)'\n",
        "        \n",
        "        for info in re.findall(finder,src):\n",
        "          active.append(info)\n",
        "                \n",
        "        time.sleep(3)\n",
        "\n",
        "    return active\n",
        "    "
      ],
      "metadata": {
        "id": "U-IhvcrjOcXP"
      },
      "execution_count": 12,
      "outputs": []
    },
    {
      "cell_type": "code",
      "source": [
        "mapDateUrl = getMapDateUrl()"
      ],
      "metadata": {
        "id": "PrHYJaFpOimD"
      },
      "execution_count": 13,
      "outputs": []
    },
    {
      "cell_type": "code",
      "source": [
        "mapDateUrl"
      ],
      "metadata": {
        "colab": {
          "base_uri": "https://localhost:8080/"
        },
        "id": "p6nH7hbbOq4o",
        "outputId": "e38300c9-40b3-403a-c907-01b2eebd6ab0"
      },
      "execution_count": 14,
      "outputs": [
        {
          "output_type": "execute_result",
          "data": {
            "text/plain": [
              "['2021-09-08',\n",
              " '2020-04-07',\n",
              " '2020-04-07',\n",
              " '2020-10-13',\n",
              " '2021-04-27',\n",
              " '2020-06-02',\n",
              " '2020-04-07']"
            ]
          },
          "metadata": {},
          "execution_count": 14
        }
      ]
    },
    {
      "cell_type": "code",
      "source": [
        "mapBombUrl = []"
      ],
      "metadata": {
        "id": "brqgktoKPqdU"
      },
      "execution_count": 15,
      "outputs": []
    },
    {
      "cell_type": "code",
      "source": [
        "def getMapBombUrl():\n",
        "    active = []\n",
        "    for map in MapUrl:\n",
        "\n",
        "        src = getSrc(url,map)\n",
        "\n",
        "        finder = 'Bomb Sites:<\\/div>\\s<div class=\"infobox-cell-2\">(\\d)'\n",
        "        \n",
        "        for info in re.findall(finder,src):\n",
        "          active.append(info)\n",
        "                \n",
        "        time.sleep(3)\n",
        "\n",
        "    return active\n",
        "    "
      ],
      "metadata": {
        "id": "dQZKS0mbPqdU"
      },
      "execution_count": 16,
      "outputs": []
    },
    {
      "cell_type": "code",
      "source": [
        "mapBombUrl = getMapBombUrl()"
      ],
      "metadata": {
        "id": "eBPShfJMPqdU"
      },
      "execution_count": 17,
      "outputs": []
    },
    {
      "cell_type": "code",
      "source": [
        "mapBombUrl"
      ],
      "metadata": {
        "outputId": "46251dc4-dbf7-42af-95a3-07e4900de44a",
        "colab": {
          "base_uri": "https://localhost:8080/"
        },
        "id": "4kloRQlOPqdU"
      },
      "execution_count": 18,
      "outputs": [
        {
          "output_type": "execute_result",
          "data": {
            "text/plain": [
              "['2', '2', '2', '2', '2', '2', '3']"
            ]
          },
          "metadata": {},
          "execution_count": 18
        }
      ]
    },
    {
      "cell_type": "code",
      "source": [
        "mapTeleportUrl = []"
      ],
      "metadata": {
        "id": "if2oNvSWQMOh"
      },
      "execution_count": 19,
      "outputs": []
    },
    {
      "cell_type": "code",
      "source": [
        "def getMapTeleportUrl():\n",
        "    active = []\n",
        "    for map in MapUrl:\n",
        "\n",
        "        src = getSrc(url,map)\n",
        "\n",
        "        finder = 'Teleporters:<\\/div>\\s<div class=\"infobox-cell-2\">(\\d)'\n",
        "        if map == 'Breeze':\n",
        "          active.append('0')\n",
        "        elif map == 'Icebox':\n",
        "          active.append('0')\n",
        "        elif map == 'Haven':\n",
        "          active.append('0')\n",
        "        for info in re.findall(finder,src):\n",
        "            active.append(info)\n",
        "                \n",
        "        time.sleep(3)\n",
        "\n",
        "    return active\n",
        "    "
      ],
      "metadata": {
        "id": "7vhBkZgZQMOi"
      },
      "execution_count": 20,
      "outputs": []
    },
    {
      "cell_type": "code",
      "source": [
        "mapTeleportUrl = getMapTeleportUrl()"
      ],
      "metadata": {
        "id": "3CQd4asWQMOi"
      },
      "execution_count": 21,
      "outputs": []
    },
    {
      "cell_type": "code",
      "source": [
        "mapTeleportUrl"
      ],
      "metadata": {
        "outputId": "c63cfeba-26f7-465d-d704-1a8d575001c1",
        "colab": {
          "base_uri": "https://localhost:8080/"
        },
        "id": "GYqPx60-QMOj"
      },
      "execution_count": 22,
      "outputs": [
        {
          "output_type": "execute_result",
          "data": {
            "text/plain": [
              "['0', '2', '0', '0', '0', '0', '0']"
            ]
          },
          "metadata": {},
          "execution_count": 22
        }
      ]
    },
    {
      "cell_type": "code",
      "source": [
        "mapTopDown = []"
      ],
      "metadata": {
        "id": "tomv-LtfcWjD"
      },
      "execution_count": 23,
      "outputs": []
    },
    {
      "cell_type": "code",
      "source": [
        "def getMapTopDownUrl():\n",
        "    active = []\n",
        "    for map in MapUrl:\n",
        "\n",
        "        src = getSrc(url,map)\n",
        "\n",
        "        finder = ' class=\"image\"><img alt=\"\" src=\"(.+.png)\"'\n",
        "        \n",
        "        for info in re.findall(finder,src):\n",
        "          active.append(info)\n",
        "                \n",
        "        time.sleep(3)\n",
        "\n",
        "    return active"
      ],
      "metadata": {
        "id": "YtjA7pTJcbpi"
      },
      "execution_count": 24,
      "outputs": []
    },
    {
      "cell_type": "code",
      "source": [
        "mapTopDown = getMapTopDownUrl()"
      ],
      "metadata": {
        "id": "iMDkpdI1cr9m"
      },
      "execution_count": 25,
      "outputs": []
    },
    {
      "cell_type": "code",
      "source": [
        "mapTopDown"
      ],
      "metadata": {
        "colab": {
          "base_uri": "https://localhost:8080/"
        },
        "id": "DTcUn7sbcykO",
        "outputId": "12960f76-42e2-497d-de96-1fa496c39b20"
      },
      "execution_count": 26,
      "outputs": [
        {
          "output_type": "execute_result",
          "data": {
            "text/plain": [
              "['/commons/images/thumb/2/23/Fracture_Map.png/600px-Fracture_Map.png',\n",
              " '/commons/images/thumb/8/80/Bind_Map.png/600px-Bind_Map.png',\n",
              " '/commons/images/thumb/d/d4/Split_Map.png/600px-Split_Map.png',\n",
              " '/commons/images/thumb/e/ea/Icebox_Map.png/600px-Icebox_Map.png',\n",
              " '/commons/images/thumb/5/50/Breeze_Map.png/600px-Breeze_Map.png',\n",
              " '/commons/images/thumb/8/80/Ascent_Map.png/600px-Ascent_Map.png',\n",
              " '/commons/images/thumb/7/73/Haven_Map.png/600px-Haven_Map.png']"
            ]
          },
          "metadata": {},
          "execution_count": 26
        }
      ]
    },
    {
      "cell_type": "code",
      "source": [
        "mapInfo ={}\n"
      ],
      "metadata": {
        "id": "QcxHvNZhf27r"
      },
      "execution_count": 27,
      "outputs": []
    },
    {
      "cell_type": "code",
      "source": [
        "for map in MapUrl:\n",
        "  t = 0\n",
        "  temp = map\n",
        "  mapInfo[temp] ={\n",
        "    'Country' : str(mapCountryUrl[t]),\n",
        "    'Release Date' : str(mapDateUrl[t]),\n",
        "    'Bomb Sites' : str(mapBombUrl[t]),\n",
        "    'Teloporters' : str(mapTeleportUrl[t]),\n",
        "    'Image Url' : str(mapTopDown[t])\n",
        "  }\n",
        "  t += 1"
      ],
      "metadata": {
        "id": "Bq99CnYViEPQ"
      },
      "execution_count": 28,
      "outputs": []
    },
    {
      "cell_type": "code",
      "source": [
        "mapInfo"
      ],
      "metadata": {
        "colab": {
          "base_uri": "https://localhost:8080/"
        },
        "id": "g_Uzy9IgpsXc",
        "outputId": "72282a48-e67a-4eda-d511-2d6617a39a47"
      },
      "execution_count": 29,
      "outputs": [
        {
          "output_type": "execute_result",
          "data": {
            "text/plain": [
              "{'Ascent': {'Bomb Sites': '2',\n",
              "  'Country': 'United_States',\n",
              "  'Image Url': '/commons/images/thumb/2/23/Fracture_Map.png/600px-Fracture_Map.png',\n",
              "  'Release Date': '2021-09-08',\n",
              "  'Teloporters': '0'},\n",
              " 'Bind': {'Bomb Sites': '2',\n",
              "  'Country': 'United_States',\n",
              "  'Image Url': '/commons/images/thumb/2/23/Fracture_Map.png/600px-Fracture_Map.png',\n",
              "  'Release Date': '2021-09-08',\n",
              "  'Teloporters': '0'},\n",
              " 'Breeze': {'Bomb Sites': '2',\n",
              "  'Country': 'United_States',\n",
              "  'Image Url': '/commons/images/thumb/2/23/Fracture_Map.png/600px-Fracture_Map.png',\n",
              "  'Release Date': '2021-09-08',\n",
              "  'Teloporters': '0'},\n",
              " 'Fracture': {'Bomb Sites': '2',\n",
              "  'Country': 'United_States',\n",
              "  'Image Url': '/commons/images/thumb/2/23/Fracture_Map.png/600px-Fracture_Map.png',\n",
              "  'Release Date': '2021-09-08',\n",
              "  'Teloporters': '0'},\n",
              " 'Haven': {'Bomb Sites': '2',\n",
              "  'Country': 'United_States',\n",
              "  'Image Url': '/commons/images/thumb/2/23/Fracture_Map.png/600px-Fracture_Map.png',\n",
              "  'Release Date': '2021-09-08',\n",
              "  'Teloporters': '0'},\n",
              " 'Icebox': {'Bomb Sites': '2',\n",
              "  'Country': 'United_States',\n",
              "  'Image Url': '/commons/images/thumb/2/23/Fracture_Map.png/600px-Fracture_Map.png',\n",
              "  'Release Date': '2021-09-08',\n",
              "  'Teloporters': '0'},\n",
              " 'Split': {'Bomb Sites': '2',\n",
              "  'Country': 'United_States',\n",
              "  'Image Url': '/commons/images/thumb/2/23/Fracture_Map.png/600px-Fracture_Map.png',\n",
              "  'Release Date': '2021-09-08',\n",
              "  'Teloporters': '0'}}"
            ]
          },
          "metadata": {},
          "execution_count": 29
        }
      ]
    },
    {
      "cell_type": "code",
      "source": [
        "import json\n",
        "from google.colab import files"
      ],
      "metadata": {
        "id": "7DqJYqWS-rPn"
      },
      "execution_count": 69,
      "outputs": []
    },
    {
      "cell_type": "code",
      "source": [
        "Map = json.dumps(mapInfo, skipkeys = True, allow_nan = True, indent = 5)"
      ],
      "metadata": {
        "id": "jUM6Rn0P-ziq"
      },
      "execution_count": 85,
      "outputs": []
    },
    {
      "cell_type": "code",
      "source": [
        "files.download('map.json')"
      ],
      "metadata": {
        "colab": {
          "base_uri": "https://localhost:8080/",
          "height": 17
        },
        "id": "zYY-SrdBDjYW",
        "outputId": "26ece0fa-5f3c-4e75-a45a-8fe011d62cc5"
      },
      "execution_count": 87,
      "outputs": [
        {
          "output_type": "display_data",
          "data": {
            "text/plain": [
              "<IPython.core.display.Javascript object>"
            ],
            "application/javascript": [
              "\n",
              "    async function download(id, filename, size) {\n",
              "      if (!google.colab.kernel.accessAllowed) {\n",
              "        return;\n",
              "      }\n",
              "      const div = document.createElement('div');\n",
              "      const label = document.createElement('label');\n",
              "      label.textContent = `Downloading \"${filename}\": `;\n",
              "      div.appendChild(label);\n",
              "      const progress = document.createElement('progress');\n",
              "      progress.max = size;\n",
              "      div.appendChild(progress);\n",
              "      document.body.appendChild(div);\n",
              "\n",
              "      const buffers = [];\n",
              "      let downloaded = 0;\n",
              "\n",
              "      const channel = await google.colab.kernel.comms.open(id);\n",
              "      // Send a message to notify the kernel that we're ready.\n",
              "      channel.send({})\n",
              "\n",
              "      for await (const message of channel.messages) {\n",
              "        // Send a message to notify the kernel that we're ready.\n",
              "        channel.send({})\n",
              "        if (message.buffers) {\n",
              "          for (const buffer of message.buffers) {\n",
              "            buffers.push(buffer);\n",
              "            downloaded += buffer.byteLength;\n",
              "            progress.value = downloaded;\n",
              "          }\n",
              "        }\n",
              "      }\n",
              "      const blob = new Blob(buffers, {type: 'application/binary'});\n",
              "      const a = document.createElement('a');\n",
              "      a.href = window.URL.createObjectURL(blob);\n",
              "      a.download = filename;\n",
              "      div.appendChild(a);\n",
              "      a.click();\n",
              "      div.remove();\n",
              "    }\n",
              "  "
            ]
          },
          "metadata": {}
        },
        {
          "output_type": "display_data",
          "data": {
            "text/plain": [
              "<IPython.core.display.Javascript object>"
            ],
            "application/javascript": [
              "download(\"download_3079ff9e-0907-4150-8316-d36303b22a61\", \"map.json\", 1862)"
            ]
          },
          "metadata": {}
        }
      ]
    },
    {
      "cell_type": "code",
      "source": [
        "print(Map)"
      ],
      "metadata": {
        "colab": {
          "base_uri": "https://localhost:8080/"
        },
        "id": "lw95zMQb_C7k",
        "outputId": "14f03027-1f1b-4f57-87f1-47ea33d60cf0"
      },
      "execution_count": 86,
      "outputs": [
        {
          "output_type": "stream",
          "name": "stdout",
          "text": [
            "{\n",
            "     \"Fracture\": {\n",
            "          \"Country\": \"United_States\",\n",
            "          \"Release Date\": \"2021-09-08\",\n",
            "          \"Bomb Sites\": \"2\",\n",
            "          \"Teloporters\": \"0\",\n",
            "          \"Image Url\": \"/commons/images/thumb/2/23/Fracture_Map.png/600px-Fracture_Map.png\"\n",
            "     },\n",
            "     \"Bind\": {\n",
            "          \"Country\": \"United_States\",\n",
            "          \"Release Date\": \"2021-09-08\",\n",
            "          \"Bomb Sites\": \"2\",\n",
            "          \"Teloporters\": \"0\",\n",
            "          \"Image Url\": \"/commons/images/thumb/2/23/Fracture_Map.png/600px-Fracture_Map.png\"\n",
            "     },\n",
            "     \"Split\": {\n",
            "          \"Country\": \"United_States\",\n",
            "          \"Release Date\": \"2021-09-08\",\n",
            "          \"Bomb Sites\": \"2\",\n",
            "          \"Teloporters\": \"0\",\n",
            "          \"Image Url\": \"/commons/images/thumb/2/23/Fracture_Map.png/600px-Fracture_Map.png\"\n",
            "     },\n",
            "     \"Icebox\": {\n",
            "          \"Country\": \"United_States\",\n",
            "          \"Release Date\": \"2021-09-08\",\n",
            "          \"Bomb Sites\": \"2\",\n",
            "          \"Teloporters\": \"0\",\n",
            "          \"Image Url\": \"/commons/images/thumb/2/23/Fracture_Map.png/600px-Fracture_Map.png\"\n",
            "     },\n",
            "     \"Breeze\": {\n",
            "          \"Country\": \"United_States\",\n",
            "          \"Release Date\": \"2021-09-08\",\n",
            "          \"Bomb Sites\": \"2\",\n",
            "          \"Teloporters\": \"0\",\n",
            "          \"Image Url\": \"/commons/images/thumb/2/23/Fracture_Map.png/600px-Fracture_Map.png\"\n",
            "     },\n",
            "     \"Ascent\": {\n",
            "          \"Country\": \"United_States\",\n",
            "          \"Release Date\": \"2021-09-08\",\n",
            "          \"Bomb Sites\": \"2\",\n",
            "          \"Teloporters\": \"0\",\n",
            "          \"Image Url\": \"/commons/images/thumb/2/23/Fracture_Map.png/600px-Fracture_Map.png\"\n",
            "     },\n",
            "     \"Haven\": {\n",
            "          \"Country\": \"United_States\",\n",
            "          \"Release Date\": \"2021-09-08\",\n",
            "          \"Bomb Sites\": \"2\",\n",
            "          \"Teloporters\": \"0\",\n",
            "          \"Image Url\": \"/commons/images/thumb/2/23/Fracture_Map.png/600px-Fracture_Map.png\"\n",
            "     }\n",
            "}\n"
          ]
        }
      ]
    }
  ],
  "metadata": {
    "colab": {
      "collapsed_sections": [],
      "name": "Toc",
      "provenance": []
    },
    "kernelspec": {
      "display_name": "Python 3",
      "name": "python3"
    }
  },
  "nbformat": 4,
  "nbformat_minor": 0
}